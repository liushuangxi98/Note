{
 "cells": [
  {
   "cell_type": "code",
   "execution_count": 7,
   "metadata": {
    "collapsed": true
   },
   "outputs": [],
   "source": [
    "# 1、获取数据‘\n",
    "# 2、数据基本处理\n",
    "## 确定目标值、特征值\n",
    "## 处理缺失值\n",
    "## 数据集划分\n",
    "# 3、特征工程\n",
    "## 特征预处理\n",
    "### 标准化\n",
    "### 归一化\n",
    "## 特征抽取\n",
    "### 字典、文本特征抽取\n",
    "## 特征降维\n",
    "### 低方差过滤\n",
    "### 相关系数\n",
    "### 主成分分析PCA\n",
    "# 3、机器学习\n",
    "## 实例化估计器\n",
    "## 训练\n",
    "# 4、模型优化\n",
    "## 交叉验证\n",
    "## 网格搜索"
   ]
  },
  {
   "cell_type": "code",
   "execution_count": 108,
   "outputs": [],
   "source": [
    "import pandas as pd\n",
    "import numpy as np\n",
    "from sklearn.model_selection import train_test_split, GridSearchCV\n",
    "from sklearn.preprocessing import StandardScaler\n",
    "from sklearn.linear_model import SGDRegressor\n",
    "import joblib"
   ],
   "metadata": {
    "collapsed": false,
    "pycharm": {
     "name": "#%%\n"
    }
   }
  },
  {
   "cell_type": "code",
   "execution_count": 9,
   "outputs": [],
   "source": [
    "# 1、获取数据‘\n",
    "data = pd.read_csv('31.PUGB比赛预测/train_V2.csv')\n",
    "data_test = pd.read_csv('31.PUGB比赛预测/test_V2.csv')"
   ],
   "metadata": {
    "collapsed": false,
    "pycharm": {
     "name": "#%%\n"
    }
   }
  },
  {
   "cell_type": "code",
   "execution_count": 10,
   "outputs": [
    {
     "data": {
      "text/plain": "               Id         groupId         matchId  assists  boosts  \\\n0  7f96b2f878858a  4d4b580de459be  a10357fd1a4a91        0       0   \n1  eef90569b9d03c  684d5656442f9e  aeb375fc57110c        0       0   \n2  1eaf90ac73de72  6a4a42c3245a74  110163d8bb94ae        1       0   \n3  4616d365dd2853  a930a9c79cd721  f1f1f4ef412d7e        0       0   \n4  315c96c26c9aac  de04010b3458dd  6dc8ff871e21e6        0       0   \n\n   damageDealt  DBNOs  headshotKills  heals  killPlace  ...  revives  \\\n0         0.00      0              0      0         60  ...        0   \n1        91.47      0              0      0         57  ...        0   \n2        68.00      0              0      0         47  ...        0   \n3        32.90      0              0      0         75  ...        0   \n4       100.00      0              0      0         45  ...        0   \n\n   rideDistance  roadKills  swimDistance  teamKills vehicleDestroys  \\\n0        0.0000          0          0.00          0               0   \n1        0.0045          0         11.04          0               0   \n2        0.0000          0          0.00          0               0   \n3        0.0000          0          0.00          0               0   \n4        0.0000          0          0.00          0               0   \n\n   walkDistance  weaponsAcquired  winPoints  winPlacePerc  \n0        244.80                1       1466        0.4444  \n1       1434.00                5          0        0.6400  \n2        161.80                2          0        0.7755  \n3        202.70                3          0        0.1667  \n4         49.75                2          0        0.1875  \n\n[5 rows x 29 columns]",
      "text/html": "<div>\n<style scoped>\n    .dataframe tbody tr th:only-of-type {\n        vertical-align: middle;\n    }\n\n    .dataframe tbody tr th {\n        vertical-align: top;\n    }\n\n    .dataframe thead th {\n        text-align: right;\n    }\n</style>\n<table border=\"1\" class=\"dataframe\">\n  <thead>\n    <tr style=\"text-align: right;\">\n      <th></th>\n      <th>Id</th>\n      <th>groupId</th>\n      <th>matchId</th>\n      <th>assists</th>\n      <th>boosts</th>\n      <th>damageDealt</th>\n      <th>DBNOs</th>\n      <th>headshotKills</th>\n      <th>heals</th>\n      <th>killPlace</th>\n      <th>...</th>\n      <th>revives</th>\n      <th>rideDistance</th>\n      <th>roadKills</th>\n      <th>swimDistance</th>\n      <th>teamKills</th>\n      <th>vehicleDestroys</th>\n      <th>walkDistance</th>\n      <th>weaponsAcquired</th>\n      <th>winPoints</th>\n      <th>winPlacePerc</th>\n    </tr>\n  </thead>\n  <tbody>\n    <tr>\n      <th>0</th>\n      <td>7f96b2f878858a</td>\n      <td>4d4b580de459be</td>\n      <td>a10357fd1a4a91</td>\n      <td>0</td>\n      <td>0</td>\n      <td>0.00</td>\n      <td>0</td>\n      <td>0</td>\n      <td>0</td>\n      <td>60</td>\n      <td>...</td>\n      <td>0</td>\n      <td>0.0000</td>\n      <td>0</td>\n      <td>0.00</td>\n      <td>0</td>\n      <td>0</td>\n      <td>244.80</td>\n      <td>1</td>\n      <td>1466</td>\n      <td>0.4444</td>\n    </tr>\n    <tr>\n      <th>1</th>\n      <td>eef90569b9d03c</td>\n      <td>684d5656442f9e</td>\n      <td>aeb375fc57110c</td>\n      <td>0</td>\n      <td>0</td>\n      <td>91.47</td>\n      <td>0</td>\n      <td>0</td>\n      <td>0</td>\n      <td>57</td>\n      <td>...</td>\n      <td>0</td>\n      <td>0.0045</td>\n      <td>0</td>\n      <td>11.04</td>\n      <td>0</td>\n      <td>0</td>\n      <td>1434.00</td>\n      <td>5</td>\n      <td>0</td>\n      <td>0.6400</td>\n    </tr>\n    <tr>\n      <th>2</th>\n      <td>1eaf90ac73de72</td>\n      <td>6a4a42c3245a74</td>\n      <td>110163d8bb94ae</td>\n      <td>1</td>\n      <td>0</td>\n      <td>68.00</td>\n      <td>0</td>\n      <td>0</td>\n      <td>0</td>\n      <td>47</td>\n      <td>...</td>\n      <td>0</td>\n      <td>0.0000</td>\n      <td>0</td>\n      <td>0.00</td>\n      <td>0</td>\n      <td>0</td>\n      <td>161.80</td>\n      <td>2</td>\n      <td>0</td>\n      <td>0.7755</td>\n    </tr>\n    <tr>\n      <th>3</th>\n      <td>4616d365dd2853</td>\n      <td>a930a9c79cd721</td>\n      <td>f1f1f4ef412d7e</td>\n      <td>0</td>\n      <td>0</td>\n      <td>32.90</td>\n      <td>0</td>\n      <td>0</td>\n      <td>0</td>\n      <td>75</td>\n      <td>...</td>\n      <td>0</td>\n      <td>0.0000</td>\n      <td>0</td>\n      <td>0.00</td>\n      <td>0</td>\n      <td>0</td>\n      <td>202.70</td>\n      <td>3</td>\n      <td>0</td>\n      <td>0.1667</td>\n    </tr>\n    <tr>\n      <th>4</th>\n      <td>315c96c26c9aac</td>\n      <td>de04010b3458dd</td>\n      <td>6dc8ff871e21e6</td>\n      <td>0</td>\n      <td>0</td>\n      <td>100.00</td>\n      <td>0</td>\n      <td>0</td>\n      <td>0</td>\n      <td>45</td>\n      <td>...</td>\n      <td>0</td>\n      <td>0.0000</td>\n      <td>0</td>\n      <td>0.00</td>\n      <td>0</td>\n      <td>0</td>\n      <td>49.75</td>\n      <td>2</td>\n      <td>0</td>\n      <td>0.1875</td>\n    </tr>\n  </tbody>\n</table>\n<p>5 rows × 29 columns</p>\n</div>"
     },
     "execution_count": 10,
     "metadata": {},
     "output_type": "execute_result"
    }
   ],
   "source": [
    "data.head()"
   ],
   "metadata": {
    "collapsed": false,
    "pycharm": {
     "name": "#%%\n"
    }
   }
  },
  {
   "cell_type": "code",
   "execution_count": 99,
   "outputs": [
    {
     "name": "stdout",
     "output_type": "stream",
     "text": [
      "(4446966, 10)\n",
      "(4446966, 1)\n",
      "(4446965, 10)\n",
      "(4446965, 1)\n"
     ]
    },
    {
     "data": {
      "text/plain": "         assists  boosts  damageDealt  DBNOs  heals  killPlace  kills  \\\n3760948        0       3       281.30      2      0         21      2   \n4178170        0       0         0.00      0      0         81      0   \n1722430        1       0       453.70      0      1          8      3   \n1060224        1       0       127.40      1      0         43      1   \n242366         0       1         0.00      0      1         64      0   \n...          ...     ...          ...    ...    ...        ...    ...   \n3166700        1       9       630.40      4      8          8      4   \n3265895        0       0        11.61      0      0         75      0   \n2646372        0       0        52.92      0      0         91      0   \n162752         1       0         0.00      0      0         74      0   \n3397765        0       0         0.00      0      0         58      0   \n\n         longestKill  revives  winPoints  \n3760948       12.720        0          0  \n4178170        0.000        0       1501  \n1722430      267.300        0          0  \n1060224        1.205        0       1492  \n242366         0.000        0          0  \n...              ...      ...        ...  \n3166700       64.110        1          0  \n3265895        0.000        1       1702  \n2646372        0.000        0          0  \n162752         0.000        0       1540  \n3397765        0.000        0       1500  \n\n[3335223 rows x 10 columns]",
      "text/html": "<div>\n<style scoped>\n    .dataframe tbody tr th:only-of-type {\n        vertical-align: middle;\n    }\n\n    .dataframe tbody tr th {\n        vertical-align: top;\n    }\n\n    .dataframe thead th {\n        text-align: right;\n    }\n</style>\n<table border=\"1\" class=\"dataframe\">\n  <thead>\n    <tr style=\"text-align: right;\">\n      <th></th>\n      <th>assists</th>\n      <th>boosts</th>\n      <th>damageDealt</th>\n      <th>DBNOs</th>\n      <th>heals</th>\n      <th>killPlace</th>\n      <th>kills</th>\n      <th>longestKill</th>\n      <th>revives</th>\n      <th>winPoints</th>\n    </tr>\n  </thead>\n  <tbody>\n    <tr>\n      <th>3760948</th>\n      <td>0</td>\n      <td>3</td>\n      <td>281.30</td>\n      <td>2</td>\n      <td>0</td>\n      <td>21</td>\n      <td>2</td>\n      <td>12.720</td>\n      <td>0</td>\n      <td>0</td>\n    </tr>\n    <tr>\n      <th>4178170</th>\n      <td>0</td>\n      <td>0</td>\n      <td>0.00</td>\n      <td>0</td>\n      <td>0</td>\n      <td>81</td>\n      <td>0</td>\n      <td>0.000</td>\n      <td>0</td>\n      <td>1501</td>\n    </tr>\n    <tr>\n      <th>1722430</th>\n      <td>1</td>\n      <td>0</td>\n      <td>453.70</td>\n      <td>0</td>\n      <td>1</td>\n      <td>8</td>\n      <td>3</td>\n      <td>267.300</td>\n      <td>0</td>\n      <td>0</td>\n    </tr>\n    <tr>\n      <th>1060224</th>\n      <td>1</td>\n      <td>0</td>\n      <td>127.40</td>\n      <td>1</td>\n      <td>0</td>\n      <td>43</td>\n      <td>1</td>\n      <td>1.205</td>\n      <td>0</td>\n      <td>1492</td>\n    </tr>\n    <tr>\n      <th>242366</th>\n      <td>0</td>\n      <td>1</td>\n      <td>0.00</td>\n      <td>0</td>\n      <td>1</td>\n      <td>64</td>\n      <td>0</td>\n      <td>0.000</td>\n      <td>0</td>\n      <td>0</td>\n    </tr>\n    <tr>\n      <th>...</th>\n      <td>...</td>\n      <td>...</td>\n      <td>...</td>\n      <td>...</td>\n      <td>...</td>\n      <td>...</td>\n      <td>...</td>\n      <td>...</td>\n      <td>...</td>\n      <td>...</td>\n    </tr>\n    <tr>\n      <th>3166700</th>\n      <td>1</td>\n      <td>9</td>\n      <td>630.40</td>\n      <td>4</td>\n      <td>8</td>\n      <td>8</td>\n      <td>4</td>\n      <td>64.110</td>\n      <td>1</td>\n      <td>0</td>\n    </tr>\n    <tr>\n      <th>3265895</th>\n      <td>0</td>\n      <td>0</td>\n      <td>11.61</td>\n      <td>0</td>\n      <td>0</td>\n      <td>75</td>\n      <td>0</td>\n      <td>0.000</td>\n      <td>1</td>\n      <td>1702</td>\n    </tr>\n    <tr>\n      <th>2646372</th>\n      <td>0</td>\n      <td>0</td>\n      <td>52.92</td>\n      <td>0</td>\n      <td>0</td>\n      <td>91</td>\n      <td>0</td>\n      <td>0.000</td>\n      <td>0</td>\n      <td>0</td>\n    </tr>\n    <tr>\n      <th>162752</th>\n      <td>1</td>\n      <td>0</td>\n      <td>0.00</td>\n      <td>0</td>\n      <td>0</td>\n      <td>74</td>\n      <td>0</td>\n      <td>0.000</td>\n      <td>0</td>\n      <td>1540</td>\n    </tr>\n    <tr>\n      <th>3397765</th>\n      <td>0</td>\n      <td>0</td>\n      <td>0.00</td>\n      <td>0</td>\n      <td>0</td>\n      <td>58</td>\n      <td>0</td>\n      <td>0.000</td>\n      <td>0</td>\n      <td>1500</td>\n    </tr>\n  </tbody>\n</table>\n<p>3335223 rows × 10 columns</p>\n</div>"
     },
     "execution_count": 99,
     "metadata": {},
     "output_type": "execute_result"
    }
   ],
   "source": [
    "# 2、数据基本处理\n",
    "## 确定目标值、特征值\n",
    "\n",
    "# print(data.columns)\n",
    "data_x = data[['assists', 'boosts', 'damageDealt', 'DBNOs', 'heals', 'killPlace',  'kills', 'longestKill','revives','winPoints']]\n",
    "data_y = data[['winPlacePerc']]\n",
    "print(data_x.shape)\n",
    "print(data_y.shape)\n",
    "## 处理缺失值\n",
    "# 特征值有无缺失值检查\n",
    "# print(data_x.isnull().any(axis=0))\n",
    "# 目标值有无缺失值检查\n",
    "# print(data_y.isnull().any(axis=1))\n",
    "# 缺失值的索引\n",
    "# print(list(data_y.isnull().idxmax()))\n",
    "# 同时删除有缺失值的特征值和目标值\n",
    "mask = data_y.notnull().all(axis=1)\n",
    "data_x = data_x[mask]\n",
    "data_y = data_y[mask]\n",
    "print(data_x.shape)\n",
    "print(data_y.shape)\n",
    "## 数据集划分\n",
    "x_train,x_test,y_train,y_test = train_test_split(data_x,data_y,random_state=22)\n",
    "x_train"
   ],
   "metadata": {
    "collapsed": false,
    "pycharm": {
     "name": "#%%\n"
    }
   }
  },
  {
   "cell_type": "code",
   "execution_count": 101,
   "outputs": [
    {
     "name": "stdout",
     "output_type": "stream",
     "text": [
      "[[-0.39746566  1.10365296  0.88162143 ... -0.20151307 -0.34892819\n",
      "  -0.82001748]\n",
      " [-0.39746566 -0.64508292 -0.76539181 ... -0.45118309 -0.34892819\n",
      "   1.20902844]\n",
      " [ 1.30160013 -0.64508292  1.8910245  ...  4.79542038 -0.34892819\n",
      "  -0.82001748]\n",
      " ...\n",
      " [-0.39746566 -0.64508292 -0.45554488 ... -0.45118309 -0.34892819\n",
      "  -0.82001748]\n",
      " [ 1.30160013 -0.64508292 -0.76539181 ... -0.45118309 -0.34892819\n",
      "   1.26174849]\n",
      " [-0.39746566 -0.64508292 -0.76539181 ... -0.45118309 -0.34892819\n",
      "   1.20767664]]\n",
      "[[-0.39663252  0.51982762 -0.32034397 ...  1.98965547 -0.34814126\n",
      "  -0.81943907]\n",
      " [-0.39663252  1.684922    3.10708167 ...  5.58818415  1.76388318\n",
      "   1.0858207 ]\n",
      " [-0.39663252 -0.64526677 -0.36514883 ... -0.45115386 -0.34814126\n",
      "  -0.81943907]\n",
      " ...\n",
      " [-0.39663252 -0.64526677 -0.76546418 ... -0.45115386 -0.34814126\n",
      "   1.18858843]\n",
      " [-0.39663252 -0.64526677 -0.76546418 ... -0.45115386 -0.34814126\n",
      "   1.18047519]\n",
      " [-0.39663252 -0.06271958 -0.01461666 ... -0.37810588 -0.34814126\n",
      "  -0.81943907]]\n"
     ]
    }
   ],
   "source": [
    "# 3、特征工程\n",
    "## 特征预处理\n",
    "### 标准化\n",
    "transfer = StandardScaler()\n",
    "x_train = transfer.fit_transform(x_train)\n",
    "x_test = transfer.fit_transform(x_test)\n",
    "print(x_train)\n",
    "print(x_test)\n",
    "## 特征降维\n",
    "pass"
   ],
   "metadata": {
    "collapsed": false,
    "pycharm": {
     "name": "#%%\n"
    }
   }
  },
  {
   "cell_type": "code",
   "execution_count": 104,
   "outputs": [
    {
     "name": "stderr",
     "output_type": "stream",
     "text": [
      "D:\\soft\\Anaconda3\\lib\\site-packages\\sklearn\\utils\\validation.py:993: DataConversionWarning: A column-vector y was passed when a 1d array was expected. Please change the shape of y to (n_samples, ), for example using ravel().\n",
      "  y = column_or_1d(y, warn=True)\n"
     ]
    },
    {
     "data": {
      "text/plain": "SGDRegressor(eta0=3e-05, learning_rate='constant')"
     },
     "execution_count": 104,
     "metadata": {},
     "output_type": "execute_result"
    }
   ],
   "source": [
    "# 3、机器学习\n",
    "## 实例化估计器\n",
    "estimator = SGDRegressor(loss=\"squared_error\",learning_rate=\"constant\",eta0=0.00003)\n",
    "## 训练\n",
    "estimator.fit(x_train, y_train)"
   ],
   "metadata": {
    "collapsed": false,
    "pycharm": {
     "name": "#%%\n"
    }
   }
  },
  {
   "cell_type": "code",
   "execution_count": 106,
   "outputs": [
    {
     "data": {
      "text/plain": "0.6573708670994269"
     },
     "execution_count": 106,
     "metadata": {},
     "output_type": "execute_result"
    }
   ],
   "source": [
    "estimator.score(x_test,y_test)"
   ],
   "metadata": {
    "collapsed": false,
    "pycharm": {
     "name": "#%%\n"
    }
   }
  },
  {
   "cell_type": "code",
   "execution_count": 109,
   "outputs": [
    {
     "data": {
      "text/plain": "['31.PUGB比赛预测/model_pugb.pkl']"
     },
     "execution_count": 109,
     "metadata": {},
     "output_type": "execute_result"
    }
   ],
   "source": [
    "joblib.dump(estimator, '31.PUGB比赛预测/model_pugb.pkl')"
   ],
   "metadata": {
    "collapsed": false,
    "pycharm": {
     "name": "#%%\n"
    }
   }
  }
 ],
 "metadata": {
  "kernelspec": {
   "display_name": "Python 3",
   "language": "python",
   "name": "python3"
  },
  "language_info": {
   "codemirror_mode": {
    "name": "ipython",
    "version": 2
   },
   "file_extension": ".py",
   "mimetype": "text/x-python",
   "name": "python",
   "nbconvert_exporter": "python",
   "pygments_lexer": "ipython2",
   "version": "2.7.6"
  }
 },
 "nbformat": 4,
 "nbformat_minor": 0
}