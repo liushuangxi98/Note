{
 "cells": [
  {
   "cell_type": "code",
   "execution_count": 1,
   "metadata": {
    "collapsed": true
   },
   "outputs": [],
   "source": [
    "import pandas as pd\n",
    "data = pd.read_csv(r'D:\\file\\python\\黑马AI教程\\05阶段五 人工智能经典算法编程\\第五阶段 人工智能经典算法编程\\5-1 人工智能基础v5.0-代码和笔记\\第5节 Pandas\\3. 代码\\data\\stock_day.csv')"
   ]
  },
  {
   "cell_type": "code",
   "execution_count": 16,
   "outputs": [],
   "source": [
    "import numpy as np\n",
    "#获取索引日期的datatime格式\n",
    "data_index = pd.to_datetime(data.index)\n",
    "#获取周几\n",
    "data_week = data_index.weekday\n",
    "#数据添加\n",
    "data['week'] = data_week\n",
    "data['day']= data_index.day\n",
    "#数据添加\n",
    "data['posi_neg'] = np.where(data['p_change'] > 0, 1, 0)\n"
   ],
   "metadata": {
    "collapsed": false
   }
  },
  {
   "cell_type": "code",
   "execution_count": 17,
   "outputs": [
    {
     "name": "stdout",
     "output_type": "stream",
     "text": [
      "             open   high  close    low    volume  price_change  p_change  \\\n",
      "2018-02-27  23.53  25.88  24.16  23.53  95578.03          0.63      2.68   \n",
      "2018-02-26  22.80  23.78  23.53  22.80  60985.11          0.69      3.02   \n",
      "2018-02-23  22.88  23.37  22.82  22.71  52914.01          0.54      2.42   \n",
      "2018-02-22  22.25  22.76  22.28  22.02  36105.01          0.36      1.64   \n",
      "2018-02-14  21.49  21.99  21.92  21.48  23331.04          0.44      2.05   \n",
      "\n",
      "               ma5    ma10    ma20     v_ma5    v_ma10    v_ma20  turnover  \\\n",
      "2018-02-27  22.942  22.142  22.875  53782.64  46738.65  55576.11      2.39   \n",
      "2018-02-26  22.406  21.955  22.942  40827.52  42736.34  56007.50      1.53   \n",
      "2018-02-23  21.938  21.929  23.022  35119.58  41871.97  56372.85      1.32   \n",
      "2018-02-22  21.446  21.909  23.137  35397.58  39904.78  60149.60      0.90   \n",
      "2018-02-14  21.366  21.923  23.253  33590.21  42935.74  61716.11      0.58   \n",
      "\n",
      "            week  posi_neg  day  \n",
      "2018-02-27     1         1   27  \n",
      "2018-02-26     0         1   26  \n",
      "2018-02-23     4         1   23  \n",
      "2018-02-22     3         1   22  \n",
      "2018-02-14     2         1   14  \n"
     ]
    }
   ],
   "source": [
    "print(data.head())"
   ],
   "metadata": {
    "collapsed": false
   }
  },
  {
   "cell_type": "code",
   "execution_count": 29,
   "outputs": [
    {
     "name": "stdout",
     "output_type": "stream",
     "text": [
      "posi_neg   0   1\n",
      "week            \n",
      "0         63  62\n",
      "1         55  76\n",
      "2         61  71\n",
      "3         63  65\n",
      "4         59  68\n",
      "posi_neg         0         1\n",
      "week                        \n",
      "0         0.504000  0.496000\n",
      "1         0.419847  0.580153\n",
      "2         0.462121  0.537879\n",
      "3         0.492188  0.507812\n",
      "4         0.464567  0.535433\n"
     ]
    }
   ],
   "source": [
    "#通过交叉表找寻两列数据的关系\n",
    "count = pd.crosstab(data['week'], data['posi_neg'])\n",
    "_sum = count.sum(axis=1).astype(np.float32)\n",
    "#进行相除操作，得出比例\n",
    "pro = count.div(_sum, axis=0)\n",
    "\n",
    "print(count)\n",
    "print(pro)"
   ],
   "metadata": {
    "collapsed": false
   }
  },
  {
   "cell_type": "code",
   "execution_count": 20,
   "outputs": [],
   "source": [
    "pro2 = data.pivot_table(index='week', values=[ 'posi_neg'], aggfunc='mean')"
   ],
   "metadata": {
    "collapsed": false
   }
  },
  {
   "cell_type": "code",
   "execution_count": 26,
   "outputs": [
    {
     "name": "stdout",
     "output_type": "stream",
     "text": [
      "          posi_neg\n",
      "week day          \n",
      "0    1    0.666667\n",
      "     2    0.500000\n",
      "     3    0.500000\n",
      "     4    0.000000\n",
      "     5    0.750000\n",
      "...            ...\n",
      "4    16   0.666667\n",
      "     17   0.200000\n",
      "     18   1.000000\n",
      "     19   0.600000\n",
      "     20   0.750000\n",
      "\n",
      "[144 rows x 1 columns]\n"
     ]
    }
   ],
   "source": [
    "print(pro2)"
   ],
   "metadata": {
    "collapsed": false
   }
  }
 ],
 "metadata": {
  "kernelspec": {
   "display_name": "Python 3",
   "language": "python",
   "name": "python3"
  },
  "language_info": {
   "codemirror_mode": {
    "name": "ipython",
    "version": 2
   },
   "file_extension": ".py",
   "mimetype": "text/x-python",
   "name": "python",
   "nbconvert_exporter": "python",
   "pygments_lexer": "ipython2",
   "version": "2.7.6"
  }
 },
 "nbformat": 4,
 "nbformat_minor": 0
}
