{
 "cells": [
  {
   "cell_type": "code",
   "execution_count": 48,
   "metadata": {
    "collapsed": true
   },
   "outputs": [
    {
     "ename": "SyntaxError",
     "evalue": "invalid syntax (3701910265.py, line 4)",
     "output_type": "error",
     "traceback": [
      "\u001B[1;36m  File \u001B[1;32m\"C:\\Users\\86138\\AppData\\Local\\Temp\\ipykernel_25276\\3701910265.py\"\u001B[1;36m, line \u001B[1;32m4\u001B[0m\n\u001B[1;33m    data.class\u001B[0m\n\u001B[1;37m         ^\u001B[0m\n\u001B[1;31mSyntaxError\u001B[0m\u001B[1;31m:\u001B[0m invalid syntax\n"
     ]
    }
   ],
   "source": [
    "import numpy as np\n",
    "import pandas as pd\n",
    "data = pd.read_excel('8.交叉表数据.xlsx')\n",
    "data"
   ]
  },
  {
   "cell_type": "code",
   "execution_count": 17,
   "outputs": [
    {
     "data": {
      "text/plain": "           日期   open   high  close    low    volume  price_change  p_change  \\\n0  2018-02-27  23.53  25.88  24.16  23.53  95578.03          0.63      2.68   \n1  2018-02-26  22.80  23.78  23.53  22.80  60985.11          0.69      3.02   \n2  2018-02-23  22.88  23.37  22.82  22.71  52914.01          0.54      2.42   \n3  2018-02-22  22.25  22.76  22.28  22.02  36105.01          0.36      1.64   \n4  2018-02-14  21.49  21.99  21.92  21.48  23331.04          0.44      2.05   \n\n      ma5    ma10    ma20     v_ma5    v_ma10    v_ma20  turnover  week  day  \\\n0  22.942  22.142  22.875  53782.64  46738.65  55576.11      2.39     1   27   \n1  22.406  21.955  22.942  40827.52  42736.34  56007.50      1.53     0   26   \n2  21.938  21.929  23.022  35119.58  41871.97  56372.85      1.32     4   23   \n3  21.446  21.909  23.137  35397.58  39904.78  60149.60      0.90     3   22   \n4  21.366  21.923  23.253  33590.21  42935.74  61716.11      0.58     2   14   \n\n   posi_neg  \n0         1  \n1         1  \n2         1  \n3         1  \n4         1  ",
      "text/html": "<div>\n<style scoped>\n    .dataframe tbody tr th:only-of-type {\n        vertical-align: middle;\n    }\n\n    .dataframe tbody tr th {\n        vertical-align: top;\n    }\n\n    .dataframe thead th {\n        text-align: right;\n    }\n</style>\n<table border=\"1\" class=\"dataframe\">\n  <thead>\n    <tr style=\"text-align: right;\">\n      <th></th>\n      <th>日期</th>\n      <th>open</th>\n      <th>high</th>\n      <th>close</th>\n      <th>low</th>\n      <th>volume</th>\n      <th>price_change</th>\n      <th>p_change</th>\n      <th>ma5</th>\n      <th>ma10</th>\n      <th>ma20</th>\n      <th>v_ma5</th>\n      <th>v_ma10</th>\n      <th>v_ma20</th>\n      <th>turnover</th>\n      <th>week</th>\n      <th>day</th>\n      <th>posi_neg</th>\n    </tr>\n  </thead>\n  <tbody>\n    <tr>\n      <th>0</th>\n      <td>2018-02-27</td>\n      <td>23.53</td>\n      <td>25.88</td>\n      <td>24.16</td>\n      <td>23.53</td>\n      <td>95578.03</td>\n      <td>0.63</td>\n      <td>2.68</td>\n      <td>22.942</td>\n      <td>22.142</td>\n      <td>22.875</td>\n      <td>53782.64</td>\n      <td>46738.65</td>\n      <td>55576.11</td>\n      <td>2.39</td>\n      <td>1</td>\n      <td>27</td>\n      <td>1</td>\n    </tr>\n    <tr>\n      <th>1</th>\n      <td>2018-02-26</td>\n      <td>22.80</td>\n      <td>23.78</td>\n      <td>23.53</td>\n      <td>22.80</td>\n      <td>60985.11</td>\n      <td>0.69</td>\n      <td>3.02</td>\n      <td>22.406</td>\n      <td>21.955</td>\n      <td>22.942</td>\n      <td>40827.52</td>\n      <td>42736.34</td>\n      <td>56007.50</td>\n      <td>1.53</td>\n      <td>0</td>\n      <td>26</td>\n      <td>1</td>\n    </tr>\n    <tr>\n      <th>2</th>\n      <td>2018-02-23</td>\n      <td>22.88</td>\n      <td>23.37</td>\n      <td>22.82</td>\n      <td>22.71</td>\n      <td>52914.01</td>\n      <td>0.54</td>\n      <td>2.42</td>\n      <td>21.938</td>\n      <td>21.929</td>\n      <td>23.022</td>\n      <td>35119.58</td>\n      <td>41871.97</td>\n      <td>56372.85</td>\n      <td>1.32</td>\n      <td>4</td>\n      <td>23</td>\n      <td>1</td>\n    </tr>\n    <tr>\n      <th>3</th>\n      <td>2018-02-22</td>\n      <td>22.25</td>\n      <td>22.76</td>\n      <td>22.28</td>\n      <td>22.02</td>\n      <td>36105.01</td>\n      <td>0.36</td>\n      <td>1.64</td>\n      <td>21.446</td>\n      <td>21.909</td>\n      <td>23.137</td>\n      <td>35397.58</td>\n      <td>39904.78</td>\n      <td>60149.60</td>\n      <td>0.90</td>\n      <td>3</td>\n      <td>22</td>\n      <td>1</td>\n    </tr>\n    <tr>\n      <th>4</th>\n      <td>2018-02-14</td>\n      <td>21.49</td>\n      <td>21.99</td>\n      <td>21.92</td>\n      <td>21.48</td>\n      <td>23331.04</td>\n      <td>0.44</td>\n      <td>2.05</td>\n      <td>21.366</td>\n      <td>21.923</td>\n      <td>23.253</td>\n      <td>33590.21</td>\n      <td>42935.74</td>\n      <td>61716.11</td>\n      <td>0.58</td>\n      <td>2</td>\n      <td>14</td>\n      <td>1</td>\n    </tr>\n  </tbody>\n</table>\n</div>"
     },
     "execution_count": 17,
     "metadata": {},
     "output_type": "execute_result"
    }
   ],
   "source": [
    "data.head()"
   ],
   "metadata": {
    "collapsed": false
   }
  },
  {
   "cell_type": "code",
   "execution_count": 132,
   "outputs": [
    {
     "data": {
      "text/plain": "day          1         2         3         4         5         6         7   \\\nrow_0                                                                         \n0      0.032711  0.025741  0.027309  0.030927  0.028549  0.036265  0.029232   \n1      0.030484  0.034785  0.026424  0.027790  0.030054  0.028840  0.036176   \n2      0.042674  0.030004  0.035614  0.026411  0.025957  0.029638  0.029248   \n3      0.030000  0.040236  0.029304  0.034694  0.028216  0.026571  0.030886   \n4      0.031999  0.028297  0.036458  0.029270  0.034576  0.028020  0.026289   \n\nday          8         9         10  ...        22        23        24  \\\nrow_0                                ...                                 \n0      0.035923  0.035165  0.027702  ...  0.031800  0.036682  0.028840   \n1      0.029308  0.038529  0.034304  ...  0.030105  0.033900  0.035670   \n2      0.036307  0.030760  0.042989  ...  0.031781  0.030218  0.034794   \n3      0.031379  0.036542  0.030974  ...  0.029507  0.032012  0.030430   \n4      0.032214  0.030218  0.036357  ...  0.037734  0.030319  0.030445   \n\nday          25        26        27        28        29        30        31  \nrow_0                                                                        \n0      0.037062  0.029498  0.030864  0.029662  0.033520  0.041185  0.030080  \n1      0.029181  0.037846  0.029763  0.030370  0.031623  0.030130  0.041261  \n2      0.035122  0.029664  0.037391  0.027987  0.031088  0.029311  0.030067  \n3      0.035428  0.037073  0.030228  0.035365  0.027558  0.030835  0.030570  \n4      0.029283  0.034109  0.039730  0.030445  0.034728  0.027287  0.025139  \n\n[5 rows x 31 columns]",
      "text/html": "<div>\n<style scoped>\n    .dataframe tbody tr th:only-of-type {\n        vertical-align: middle;\n    }\n\n    .dataframe tbody tr th {\n        vertical-align: top;\n    }\n\n    .dataframe thead th {\n        text-align: right;\n    }\n</style>\n<table border=\"1\" class=\"dataframe\">\n  <thead>\n    <tr style=\"text-align: right;\">\n      <th>day</th>\n      <th>1</th>\n      <th>2</th>\n      <th>3</th>\n      <th>4</th>\n      <th>5</th>\n      <th>6</th>\n      <th>7</th>\n      <th>8</th>\n      <th>9</th>\n      <th>10</th>\n      <th>...</th>\n      <th>22</th>\n      <th>23</th>\n      <th>24</th>\n      <th>25</th>\n      <th>26</th>\n      <th>27</th>\n      <th>28</th>\n      <th>29</th>\n      <th>30</th>\n      <th>31</th>\n    </tr>\n    <tr>\n      <th>row_0</th>\n      <th></th>\n      <th></th>\n      <th></th>\n      <th></th>\n      <th></th>\n      <th></th>\n      <th></th>\n      <th></th>\n      <th></th>\n      <th></th>\n      <th></th>\n      <th></th>\n      <th></th>\n      <th></th>\n      <th></th>\n      <th></th>\n      <th></th>\n      <th></th>\n      <th></th>\n      <th></th>\n      <th></th>\n    </tr>\n  </thead>\n  <tbody>\n    <tr>\n      <th>0</th>\n      <td>0.032711</td>\n      <td>0.025741</td>\n      <td>0.027309</td>\n      <td>0.030927</td>\n      <td>0.028549</td>\n      <td>0.036265</td>\n      <td>0.029232</td>\n      <td>0.035923</td>\n      <td>0.035165</td>\n      <td>0.027702</td>\n      <td>...</td>\n      <td>0.031800</td>\n      <td>0.036682</td>\n      <td>0.028840</td>\n      <td>0.037062</td>\n      <td>0.029498</td>\n      <td>0.030864</td>\n      <td>0.029662</td>\n      <td>0.033520</td>\n      <td>0.041185</td>\n      <td>0.030080</td>\n    </tr>\n    <tr>\n      <th>1</th>\n      <td>0.030484</td>\n      <td>0.034785</td>\n      <td>0.026424</td>\n      <td>0.027790</td>\n      <td>0.030054</td>\n      <td>0.028840</td>\n      <td>0.036176</td>\n      <td>0.029308</td>\n      <td>0.038529</td>\n      <td>0.034304</td>\n      <td>...</td>\n      <td>0.030105</td>\n      <td>0.033900</td>\n      <td>0.035670</td>\n      <td>0.029181</td>\n      <td>0.037846</td>\n      <td>0.029763</td>\n      <td>0.030370</td>\n      <td>0.031623</td>\n      <td>0.030130</td>\n      <td>0.041261</td>\n    </tr>\n    <tr>\n      <th>2</th>\n      <td>0.042674</td>\n      <td>0.030004</td>\n      <td>0.035614</td>\n      <td>0.026411</td>\n      <td>0.025957</td>\n      <td>0.029638</td>\n      <td>0.029248</td>\n      <td>0.036307</td>\n      <td>0.030760</td>\n      <td>0.042989</td>\n      <td>...</td>\n      <td>0.031781</td>\n      <td>0.030218</td>\n      <td>0.034794</td>\n      <td>0.035122</td>\n      <td>0.029664</td>\n      <td>0.037391</td>\n      <td>0.027987</td>\n      <td>0.031088</td>\n      <td>0.029311</td>\n      <td>0.030067</td>\n    </tr>\n    <tr>\n      <th>3</th>\n      <td>0.030000</td>\n      <td>0.040236</td>\n      <td>0.029304</td>\n      <td>0.034694</td>\n      <td>0.028216</td>\n      <td>0.026571</td>\n      <td>0.030886</td>\n      <td>0.031379</td>\n      <td>0.036542</td>\n      <td>0.030974</td>\n      <td>...</td>\n      <td>0.029507</td>\n      <td>0.032012</td>\n      <td>0.030430</td>\n      <td>0.035428</td>\n      <td>0.037073</td>\n      <td>0.030228</td>\n      <td>0.035365</td>\n      <td>0.027558</td>\n      <td>0.030835</td>\n      <td>0.030570</td>\n    </tr>\n    <tr>\n      <th>4</th>\n      <td>0.031999</td>\n      <td>0.028297</td>\n      <td>0.036458</td>\n      <td>0.029270</td>\n      <td>0.034576</td>\n      <td>0.028020</td>\n      <td>0.026289</td>\n      <td>0.032214</td>\n      <td>0.030218</td>\n      <td>0.036357</td>\n      <td>...</td>\n      <td>0.037734</td>\n      <td>0.030319</td>\n      <td>0.030445</td>\n      <td>0.029283</td>\n      <td>0.034109</td>\n      <td>0.039730</td>\n      <td>0.030445</td>\n      <td>0.034728</td>\n      <td>0.027287</td>\n      <td>0.025139</td>\n    </tr>\n  </tbody>\n</table>\n<p>5 rows × 31 columns</p>\n</div>"
     },
     "execution_count": 132,
     "metadata": {},
     "output_type": "execute_result"
    }
   ],
   "source": [
    "#通过交叉表找寻两列数据的关系\n",
    "count = pd.crosstab(data['week'].values,data.day,data.open,aggfunc='max')\n",
    "_sum = count.sum(axis=1).astype(np.float32)\n",
    "#进行相除操作，得出比例\n",
    "pro = count.div(_sum, axis=0)\n",
    "\n",
    "count\n",
    "pro"
   ],
   "metadata": {
    "collapsed": false
   }
  },
  {
   "cell_type": "code",
   "execution_count": 111,
   "outputs": [
    {
     "data": {
      "text/plain": "day       1                                                                \\\nclose  13.46  14.10  14.40  16.29 17.94  20.46  21.25 21.48  22.08  22.38   \nweek                                                                        \n0        NaN  13.99    NaN    NaN   NaN  20.37    NaN   NaN    NaN    NaN   \n1      14.78    NaN  14.02    NaN   NaN    NaN  20.38   NaN    NaN  22.65   \n2        NaN    NaN    NaN  16.18   NaN    NaN    NaN   NaN  21.61    NaN   \n3        NaN    NaN    NaN    NaN  17.9    NaN    NaN  21.5    NaN    NaN   \n4        NaN    NaN    NaN    NaN   NaN    NaN    NaN   NaN    NaN    NaN   \n\nday    ...     31                                                               \nclose  ...  17.51  17.91 19.68  20.77  22.79 22.98  23.72  24.27  25.62  34.44  \nweek   ...                                                                      \n0      ...    NaN    NaN   NaN    NaN  22.78   NaN    NaN  23.78    NaN    NaN  \n1      ...    NaN    NaN   NaN    NaN    NaN   NaN    NaN    NaN    NaN  32.62  \n2      ...    NaN  17.85   NaN  20.92    NaN   NaN  23.85    NaN    NaN    NaN  \n3      ...    NaN    NaN   NaN    NaN    NaN  21.9    NaN    NaN  24.16    NaN  \n4      ...  17.71    NaN  19.9    NaN    NaN   NaN    NaN    NaN    NaN    NaN  \n\n[5 rows x 636 columns]",
      "text/html": "<div>\n<style scoped>\n    .dataframe tbody tr th:only-of-type {\n        vertical-align: middle;\n    }\n\n    .dataframe tbody tr th {\n        vertical-align: top;\n    }\n\n    .dataframe thead tr th {\n        text-align: left;\n    }\n\n    .dataframe thead tr:last-of-type th {\n        text-align: right;\n    }\n</style>\n<table border=\"1\" class=\"dataframe\">\n  <thead>\n    <tr>\n      <th>day</th>\n      <th colspan=\"10\" halign=\"left\">1</th>\n      <th>...</th>\n      <th colspan=\"10\" halign=\"left\">31</th>\n    </tr>\n    <tr>\n      <th>close</th>\n      <th>13.46</th>\n      <th>14.10</th>\n      <th>14.40</th>\n      <th>16.29</th>\n      <th>17.94</th>\n      <th>20.46</th>\n      <th>21.25</th>\n      <th>21.48</th>\n      <th>22.08</th>\n      <th>22.38</th>\n      <th>...</th>\n      <th>17.51</th>\n      <th>17.91</th>\n      <th>19.68</th>\n      <th>20.77</th>\n      <th>22.79</th>\n      <th>22.98</th>\n      <th>23.72</th>\n      <th>24.27</th>\n      <th>25.62</th>\n      <th>34.44</th>\n    </tr>\n    <tr>\n      <th>week</th>\n      <th></th>\n      <th></th>\n      <th></th>\n      <th></th>\n      <th></th>\n      <th></th>\n      <th></th>\n      <th></th>\n      <th></th>\n      <th></th>\n      <th></th>\n      <th></th>\n      <th></th>\n      <th></th>\n      <th></th>\n      <th></th>\n      <th></th>\n      <th></th>\n      <th></th>\n      <th></th>\n      <th></th>\n    </tr>\n  </thead>\n  <tbody>\n    <tr>\n      <th>0</th>\n      <td>NaN</td>\n      <td>13.99</td>\n      <td>NaN</td>\n      <td>NaN</td>\n      <td>NaN</td>\n      <td>20.37</td>\n      <td>NaN</td>\n      <td>NaN</td>\n      <td>NaN</td>\n      <td>NaN</td>\n      <td>...</td>\n      <td>NaN</td>\n      <td>NaN</td>\n      <td>NaN</td>\n      <td>NaN</td>\n      <td>22.78</td>\n      <td>NaN</td>\n      <td>NaN</td>\n      <td>23.78</td>\n      <td>NaN</td>\n      <td>NaN</td>\n    </tr>\n    <tr>\n      <th>1</th>\n      <td>14.78</td>\n      <td>NaN</td>\n      <td>14.02</td>\n      <td>NaN</td>\n      <td>NaN</td>\n      <td>NaN</td>\n      <td>20.38</td>\n      <td>NaN</td>\n      <td>NaN</td>\n      <td>22.65</td>\n      <td>...</td>\n      <td>NaN</td>\n      <td>NaN</td>\n      <td>NaN</td>\n      <td>NaN</td>\n      <td>NaN</td>\n      <td>NaN</td>\n      <td>NaN</td>\n      <td>NaN</td>\n      <td>NaN</td>\n      <td>32.62</td>\n    </tr>\n    <tr>\n      <th>2</th>\n      <td>NaN</td>\n      <td>NaN</td>\n      <td>NaN</td>\n      <td>16.18</td>\n      <td>NaN</td>\n      <td>NaN</td>\n      <td>NaN</td>\n      <td>NaN</td>\n      <td>21.61</td>\n      <td>NaN</td>\n      <td>...</td>\n      <td>NaN</td>\n      <td>17.85</td>\n      <td>NaN</td>\n      <td>20.92</td>\n      <td>NaN</td>\n      <td>NaN</td>\n      <td>23.85</td>\n      <td>NaN</td>\n      <td>NaN</td>\n      <td>NaN</td>\n    </tr>\n    <tr>\n      <th>3</th>\n      <td>NaN</td>\n      <td>NaN</td>\n      <td>NaN</td>\n      <td>NaN</td>\n      <td>17.9</td>\n      <td>NaN</td>\n      <td>NaN</td>\n      <td>21.5</td>\n      <td>NaN</td>\n      <td>NaN</td>\n      <td>...</td>\n      <td>NaN</td>\n      <td>NaN</td>\n      <td>NaN</td>\n      <td>NaN</td>\n      <td>NaN</td>\n      <td>21.9</td>\n      <td>NaN</td>\n      <td>NaN</td>\n      <td>24.16</td>\n      <td>NaN</td>\n    </tr>\n    <tr>\n      <th>4</th>\n      <td>NaN</td>\n      <td>NaN</td>\n      <td>NaN</td>\n      <td>NaN</td>\n      <td>NaN</td>\n      <td>NaN</td>\n      <td>NaN</td>\n      <td>NaN</td>\n      <td>NaN</td>\n      <td>NaN</td>\n      <td>...</td>\n      <td>17.71</td>\n      <td>NaN</td>\n      <td>19.9</td>\n      <td>NaN</td>\n      <td>NaN</td>\n      <td>NaN</td>\n      <td>NaN</td>\n      <td>NaN</td>\n      <td>NaN</td>\n      <td>NaN</td>\n    </tr>\n  </tbody>\n</table>\n<p>5 rows × 636 columns</p>\n</div>"
     },
     "execution_count": 111,
     "metadata": {},
     "output_type": "execute_result"
    }
   ],
   "source": [
    "pro2 = pd.pivot_table(data,index='week',values='open',columns=['day','close'],aggfunc=np.max)\n",
    "pro2\n"
   ],
   "metadata": {
    "collapsed": false,
    "pycharm": {
     "name": "#%%\n"
    }
   }
  }
 ],
 "metadata": {
  "kernelspec": {
   "display_name": "Python 3",
   "language": "python",
   "name": "python3"
  },
  "language_info": {
   "codemirror_mode": {
    "name": "ipython",
    "version": 2
   },
   "file_extension": ".py",
   "mimetype": "text/x-python",
   "name": "python",
   "nbconvert_exporter": "python",
   "pygments_lexer": "ipython2",
   "version": "2.7.6"
  }
 },
 "nbformat": 4,
 "nbformat_minor": 0
}