{
 "cells": [
  {
   "cell_type": "code",
   "execution_count": 60,
   "outputs": [],
   "source": [
    "import pandas as pd\n",
    "from sklearn.model_selection import train_test_split, GridSearchCV\n",
    "from sklearn.preprocessing import StandardScaler\n",
    "from sklearn.neighbors import KNeighborsClassifier\n",
    "import datetime"
   ],
   "metadata": {
    "collapsed": false
   }
  },
  {
   "cell_type": "code",
   "execution_count": 61,
   "outputs": [
    {
     "name": "stdout",
     "output_type": "stream",
     "text": [
      "2022-12-18 18:27:55.307139\n"
     ]
    }
   ],
   "source": [
    "start = datetime.datetime.now()\n",
    "print(start)"
   ],
   "metadata": {
    "collapsed": false
   }
  },
  {
   "cell_type": "markdown",
   "source": [
    "## 获取数据集"
   ],
   "metadata": {
    "collapsed": false
   }
  },
  {
   "cell_type": "code",
   "execution_count": 62,
   "outputs": [],
   "source": [
    "facebook = pd.read_csv(r'D:\\file\\python\\黑马AI教程\\05阶段五 人工智能经典算法编程\\第五阶段 人工智能经典算法编程\\5-1 人工智能基础v5.0-代码和笔记\\第6节 K-邻近算法\\2. 其他资料\\预习数据\\FBlocation\\train.csv')"
   ],
   "metadata": {
    "collapsed": false
   }
  },
  {
   "cell_type": "code",
   "execution_count": 63,
   "outputs": [
    {
     "name": "stdout",
     "output_type": "stream",
     "text": [
      "   row_id       x       y  accuracy    time    place_id\n",
      "0       0  0.7941  9.0809        54  470702  8523065625\n",
      "1       1  5.9567  4.7968        13  186555  1757726713\n",
      "2       2  8.3078  7.0407        74  322648  1137537235\n",
      "3       3  7.3665  2.5165        65  704587  6567393236\n",
      "4       4  4.0961  1.1307        31  472130  7440663949\n"
     ]
    }
   ],
   "source": [
    "print(facebook.head())"
   ],
   "metadata": {
    "collapsed": false
   }
  },
  {
   "cell_type": "markdown",
   "source": [
    "## 数据基本处理"
   ],
   "metadata": {
    "collapsed": false
   }
  },
  {
   "cell_type": "markdown",
   "source": [
    "### 筛选一个区域"
   ],
   "metadata": {
    "collapsed": false
   }
  },
  {
   "cell_type": "code",
   "execution_count": 64,
   "outputs": [],
   "source": [
    "facebook = facebook[(2<facebook['x'])&(3>facebook['x'])&(2<facebook['y'])&(3>facebook['y'])]"
   ],
   "metadata": {
    "collapsed": false
   }
  },
  {
   "cell_type": "code",
   "execution_count": 65,
   "outputs": [
    {
     "name": "stdout",
     "output_type": "stream",
     "text": [
      "     row_id       x       y  accuracy    time    place_id\n",
      "82       82  2.9265  2.3590        55  415119  9313893105\n",
      "159     159  2.4166  2.7762        66   74327  3432339087\n",
      "163     163  2.1663  2.3755        84  669737  3869813743\n",
      "191     191  2.7878  2.5728       144  330072  7194654578\n",
      "310     310  2.3695  2.2034         3  234719  2636621520\n"
     ]
    }
   ],
   "source": [
    "print(facebook.head())"
   ],
   "metadata": {
    "collapsed": false
   }
  },
  {
   "cell_type": "markdown",
   "source": [
    "### 将数据转为time类型"
   ],
   "metadata": {
    "collapsed": false
   }
  },
  {
   "cell_type": "code",
   "execution_count": 66,
   "outputs": [],
   "source": [
    "facebook_time = pd.to_datetime(facebook['time'],unit='s')"
   ],
   "metadata": {
    "collapsed": false
   }
  },
  {
   "cell_type": "code",
   "execution_count": 67,
   "outputs": [
    {
     "name": "stdout",
     "output_type": "stream",
     "text": [
      "82    1970-01-05 19:18:39\n",
      "159   1970-01-01 20:38:47\n",
      "163   1970-01-08 18:02:17\n",
      "191   1970-01-04 19:41:12\n",
      "310   1970-01-03 17:11:59\n",
      "Name: time, dtype: datetime64[ns]\n"
     ]
    }
   ],
   "source": [
    "print(facebook_time.head())"
   ],
   "metadata": {
    "collapsed": false
   }
  },
  {
   "cell_type": "markdown",
   "source": [
    "### 将时间转为Datetime类型"
   ],
   "metadata": {
    "collapsed": false
   }
  },
  {
   "cell_type": "code",
   "execution_count": 68,
   "outputs": [],
   "source": [
    "facebook_time = pd.DatetimeIndex(facebook_time)"
   ],
   "metadata": {
    "collapsed": false
   }
  },
  {
   "cell_type": "code",
   "execution_count": 69,
   "outputs": [
    {
     "name": "stdout",
     "output_type": "stream",
     "text": [
      "weekday: Int64Index([0, 3, 3, 6, 5, 1, 3, 3, 2, 4,\n",
      "            ...\n",
      "            5, 0, 4, 1, 4, 4, 3, 3, 3, 5],\n",
      "           dtype='int64', name='time', length=314785)\n",
      "day: Int64Index([ 5,  1,  8,  4,  3,  6,  8,  8,  7,  2,\n",
      "            ...\n",
      "             3,  5,  2,  6,  9,  9,  1,  1,  8, 10],\n",
      "           dtype='int64', name='time', length=314785)\n",
      "hour: Int64Index([19, 20, 18, 19, 17, 15,  0, 22, 18, 21,\n",
      "            ...\n",
      "             9, 13, 20,  1, 22,  7, 22, 17,  0,  2],\n",
      "           dtype='int64', name='time', length=314785)\n",
      "minute: Int64Index([18, 38,  2, 41, 11,  2, 40,  2, 26, 40,\n",
      "            ...\n",
      "            17, 21, 34, 46, 50, 35, 20, 47, 57, 17],\n",
      "           dtype='int64', name='time', length=314785)\n"
     ]
    }
   ],
   "source": [
    "print('weekday:',weekday:=facebook_time.weekday)\n",
    "print('day:',day:=facebook_time.day)\n",
    "print('hour:',hour:=facebook_time.hour)\n",
    "print('minute:',minute:=facebook_time.minute)"
   ],
   "metadata": {
    "collapsed": false
   }
  },
  {
   "cell_type": "markdown",
   "source": [
    "### 将周和天和小时写入"
   ],
   "metadata": {
    "collapsed": false
   }
  },
  {
   "cell_type": "code",
   "execution_count": 70,
   "outputs": [],
   "source": [
    "facebook['weekday'] = weekday\n",
    "facebook['day'] = day\n",
    "facebook['hour'] = hour\n",
    "facebook['minute'] = minute"
   ],
   "metadata": {
    "collapsed": false
   }
  },
  {
   "cell_type": "code",
   "execution_count": 71,
   "outputs": [
    {
     "name": "stdout",
     "output_type": "stream",
     "text": [
      "     row_id       x       y  accuracy    time    place_id  weekday  day  hour  \\\n",
      "82       82  2.9265  2.3590        55  415119  9313893105        0    5    19   \n",
      "159     159  2.4166  2.7762        66   74327  3432339087        3    1    20   \n",
      "163     163  2.1663  2.3755        84  669737  3869813743        3    8    18   \n",
      "191     191  2.7878  2.5728       144  330072  7194654578        6    4    19   \n",
      "310     310  2.3695  2.2034         3  234719  2636621520        5    3    17   \n",
      "\n",
      "     minute  \n",
      "82       18  \n",
      "159      38  \n",
      "163       2  \n",
      "191      41  \n",
      "310      11  \n"
     ]
    }
   ],
   "source": [
    "print(facebook.head())"
   ],
   "metadata": {
    "collapsed": false
   }
  },
  {
   "cell_type": "markdown",
   "source": [
    "### 原地删除掉之前的time列"
   ],
   "metadata": {
    "collapsed": false
   }
  },
  {
   "cell_type": "code",
   "execution_count": 72,
   "outputs": [],
   "source": [
    "facebook.drop('time',axis=1,inplace=True)"
   ],
   "metadata": {
    "collapsed": false
   }
  },
  {
   "cell_type": "code",
   "execution_count": 73,
   "outputs": [
    {
     "name": "stdout",
     "output_type": "stream",
     "text": [
      "     row_id       x       y  accuracy    place_id  weekday  day  hour  minute\n",
      "82       82  2.9265  2.3590        55  9313893105        0    5    19      18\n",
      "159     159  2.4166  2.7762        66  3432339087        3    1    20      38\n",
      "163     163  2.1663  2.3755        84  3869813743        3    8    18       2\n",
      "191     191  2.7878  2.5728       144  7194654578        6    4    19      41\n",
      "310     310  2.3695  2.2034         3  2636621520        5    3    17      11\n",
      "(314785, 9)\n"
     ]
    }
   ],
   "source": [
    "print(facebook.head())\n",
    "print(facebook.shape)"
   ],
   "metadata": {
    "collapsed": false
   }
  },
  {
   "cell_type": "markdown",
   "source": [
    "### 去掉签到较少的地方"
   ],
   "metadata": {
    "collapsed": false
   }
  },
  {
   "cell_type": "code",
   "execution_count": 74,
   "outputs": [
    {
     "name": "stdout",
     "output_type": "stream",
     "text": [
      "            row_id    x    y  accuracy  weekday  day  hour  minute\n",
      "place_id                                                          \n",
      "1000383269      49   49   49        49       49   49    49      49\n",
      "1000616752       7    7    7         7        7    7     7       7\n",
      "1008823061      18   18   18        18       18   18    18      18\n",
      "1012023972       5    5    5         5        5    5     5       5\n",
      "1012580558       5    5    5         5        5    5     5       5\n",
      "...            ...  ...  ...       ...      ...  ...   ...     ...\n",
      "9990596754     252  252  252       252      252  252   252     252\n",
      "9994611236       5    5    5         5        5    5     5       5\n",
      "9995108787      28   28   28        28       28   28    28      28\n",
      "9998057926     117  117  117       117      117  117   117     117\n",
      "9998968845     101  101  101       101      101  101   101     101\n",
      "\n",
      "[3012 rows x 8 columns]\n"
     ]
    }
   ],
   "source": [
    "facebook_group = facebook.groupby('place_id').count()\n",
    "facebook_count = facebook_group[facebook_group['row_id']>3]\n",
    "print(facebook_count)"
   ],
   "metadata": {
    "collapsed": false
   }
  },
  {
   "cell_type": "code",
   "execution_count": 75,
   "outputs": [],
   "source": [
    "facebook = facebook[facebook['place_id'].isin(facebook_count.index)]"
   ],
   "metadata": {
    "collapsed": false
   }
  },
  {
   "cell_type": "code",
   "execution_count": 76,
   "outputs": [
    {
     "name": "stdout",
     "output_type": "stream",
     "text": [
      "     row_id       x       y  accuracy    place_id  weekday  day  hour  minute\n",
      "82       82  2.9265  2.3590        55  9313893105        0    5    19      18\n",
      "159     159  2.4166  2.7762        66  3432339087        3    1    20      38\n",
      "163     163  2.1663  2.3755        84  3869813743        3    8    18       2\n",
      "191     191  2.7878  2.5728       144  7194654578        6    4    19      41\n",
      "310     310  2.3695  2.2034         3  2636621520        5    3    17      11\n",
      "(309342, 9)\n"
     ]
    }
   ],
   "source": [
    "print(facebook.head())\n",
    "print(facebook.shape)"
   ],
   "metadata": {
    "collapsed": false
   }
  },
  {
   "cell_type": "markdown",
   "source": [
    "### 确定特征值和目标值"
   ],
   "metadata": {
    "collapsed": false
   }
  },
  {
   "cell_type": "code",
   "execution_count": 77,
   "outputs": [],
   "source": [
    "feature = facebook[[\"x\", \"y\", \"accuracy\", \"day\", \"hour\", \"weekday\"]]\n",
    "# feature = facebook[[\"x\", \"y\", \"accuracy\", \"day\", \"hour\", \"weekday\",'minute']]\n",
    "target = facebook[\"place_id\"]"
   ],
   "metadata": {
    "collapsed": false
   }
  },
  {
   "cell_type": "markdown",
   "source": [
    "## 划分训练集和测试集"
   ],
   "metadata": {
    "collapsed": false
   }
  },
  {
   "cell_type": "code",
   "execution_count": 78,
   "outputs": [],
   "source": [
    "feature_train, feature_test, target_train, target_test = train_test_split(feature, target)"
   ],
   "metadata": {
    "collapsed": false
   }
  },
  {
   "cell_type": "markdown",
   "source": [
    "## 特征预处理,标准化"
   ],
   "metadata": {
    "collapsed": false
   }
  },
  {
   "cell_type": "code",
   "execution_count": 79,
   "outputs": [],
   "source": [
    "transfer = StandardScaler()\n",
    "feature_train = transfer.fit_transform(feature_train)\n",
    "feature_test = transfer.fit_transform(feature_test)"
   ],
   "metadata": {
    "collapsed": false
   }
  },
  {
   "cell_type": "markdown",
   "source": [
    "## 机器学习和交叉验证网格搜索knn-CV"
   ],
   "metadata": {
    "collapsed": false
   }
  },
  {
   "cell_type": "code",
   "execution_count": 80,
   "outputs": [
    {
     "name": "stderr",
     "output_type": "stream",
     "text": [
      "D:\\soft\\python3.8\\lib\\site-packages\\sklearn\\model_selection\\_split.py:700: UserWarning: The least populated class in y has only 1 members, which is less than n_splits=10.\n",
      "  warnings.warn(\n"
     ]
    },
    {
     "data": {
      "text/plain": "GridSearchCV(cv=10, estimator=KNeighborsClassifier(n_jobs=-1),\n             param_grid={'n_neighbors': [1, 2, 3, 4, 5]})",
      "text/html": "<style>#sk-container-id-3 {color: black;background-color: white;}#sk-container-id-3 pre{padding: 0;}#sk-container-id-3 div.sk-toggleable {background-color: white;}#sk-container-id-3 label.sk-toggleable__label {cursor: pointer;display: block;width: 100%;margin-bottom: 0;padding: 0.3em;box-sizing: border-box;text-align: center;}#sk-container-id-3 label.sk-toggleable__label-arrow:before {content: \"▸\";float: left;margin-right: 0.25em;color: #696969;}#sk-container-id-3 label.sk-toggleable__label-arrow:hover:before {color: black;}#sk-container-id-3 div.sk-estimator:hover label.sk-toggleable__label-arrow:before {color: black;}#sk-container-id-3 div.sk-toggleable__content {max-height: 0;max-width: 0;overflow: hidden;text-align: left;background-color: #f0f8ff;}#sk-container-id-3 div.sk-toggleable__content pre {margin: 0.2em;color: black;border-radius: 0.25em;background-color: #f0f8ff;}#sk-container-id-3 input.sk-toggleable__control:checked~div.sk-toggleable__content {max-height: 200px;max-width: 100%;overflow: auto;}#sk-container-id-3 input.sk-toggleable__control:checked~label.sk-toggleable__label-arrow:before {content: \"▾\";}#sk-container-id-3 div.sk-estimator input.sk-toggleable__control:checked~label.sk-toggleable__label {background-color: #d4ebff;}#sk-container-id-3 div.sk-label input.sk-toggleable__control:checked~label.sk-toggleable__label {background-color: #d4ebff;}#sk-container-id-3 input.sk-hidden--visually {border: 0;clip: rect(1px 1px 1px 1px);clip: rect(1px, 1px, 1px, 1px);height: 1px;margin: -1px;overflow: hidden;padding: 0;position: absolute;width: 1px;}#sk-container-id-3 div.sk-estimator {font-family: monospace;background-color: #f0f8ff;border: 1px dotted black;border-radius: 0.25em;box-sizing: border-box;margin-bottom: 0.5em;}#sk-container-id-3 div.sk-estimator:hover {background-color: #d4ebff;}#sk-container-id-3 div.sk-parallel-item::after {content: \"\";width: 100%;border-bottom: 1px solid gray;flex-grow: 1;}#sk-container-id-3 div.sk-label:hover label.sk-toggleable__label {background-color: #d4ebff;}#sk-container-id-3 div.sk-serial::before {content: \"\";position: absolute;border-left: 1px solid gray;box-sizing: border-box;top: 0;bottom: 0;left: 50%;z-index: 0;}#sk-container-id-3 div.sk-serial {display: flex;flex-direction: column;align-items: center;background-color: white;padding-right: 0.2em;padding-left: 0.2em;position: relative;}#sk-container-id-3 div.sk-item {position: relative;z-index: 1;}#sk-container-id-3 div.sk-parallel {display: flex;align-items: stretch;justify-content: center;background-color: white;position: relative;}#sk-container-id-3 div.sk-item::before, #sk-container-id-3 div.sk-parallel-item::before {content: \"\";position: absolute;border-left: 1px solid gray;box-sizing: border-box;top: 0;bottom: 0;left: 50%;z-index: -1;}#sk-container-id-3 div.sk-parallel-item {display: flex;flex-direction: column;z-index: 1;position: relative;background-color: white;}#sk-container-id-3 div.sk-parallel-item:first-child::after {align-self: flex-end;width: 50%;}#sk-container-id-3 div.sk-parallel-item:last-child::after {align-self: flex-start;width: 50%;}#sk-container-id-3 div.sk-parallel-item:only-child::after {width: 0;}#sk-container-id-3 div.sk-dashed-wrapped {border: 1px dashed gray;margin: 0 0.4em 0.5em 0.4em;box-sizing: border-box;padding-bottom: 0.4em;background-color: white;}#sk-container-id-3 div.sk-label label {font-family: monospace;font-weight: bold;display: inline-block;line-height: 1.2em;}#sk-container-id-3 div.sk-label-container {text-align: center;}#sk-container-id-3 div.sk-container {/* jupyter's `normalize.less` sets `[hidden] { display: none; }` but bootstrap.min.css set `[hidden] { display: none !important; }` so we also need the `!important` here to be able to override the default hidden behavior on the sphinx rendered scikit-learn.org. See: https://github.com/scikit-learn/scikit-learn/issues/21755 */display: inline-block !important;position: relative;}#sk-container-id-3 div.sk-text-repr-fallback {display: none;}</style><div id=\"sk-container-id-3\" class=\"sk-top-container\"><div class=\"sk-text-repr-fallback\"><pre>GridSearchCV(cv=10, estimator=KNeighborsClassifier(n_jobs=-1),\n             param_grid={&#x27;n_neighbors&#x27;: [1, 2, 3, 4, 5]})</pre><b>In a Jupyter environment, please rerun this cell to show the HTML representation or trust the notebook. <br />On GitHub, the HTML representation is unable to render, please try loading this page with nbviewer.org.</b></div><div class=\"sk-container\" hidden><div class=\"sk-item sk-dashed-wrapped\"><div class=\"sk-label-container\"><div class=\"sk-label sk-toggleable\"><input class=\"sk-toggleable__control sk-hidden--visually\" id=\"sk-estimator-id-7\" type=\"checkbox\" ><label for=\"sk-estimator-id-7\" class=\"sk-toggleable__label sk-toggleable__label-arrow\">GridSearchCV</label><div class=\"sk-toggleable__content\"><pre>GridSearchCV(cv=10, estimator=KNeighborsClassifier(n_jobs=-1),\n             param_grid={&#x27;n_neighbors&#x27;: [1, 2, 3, 4, 5]})</pre></div></div></div><div class=\"sk-parallel\"><div class=\"sk-parallel-item\"><div class=\"sk-item\"><div class=\"sk-label-container\"><div class=\"sk-label sk-toggleable\"><input class=\"sk-toggleable__control sk-hidden--visually\" id=\"sk-estimator-id-8\" type=\"checkbox\" ><label for=\"sk-estimator-id-8\" class=\"sk-toggleable__label sk-toggleable__label-arrow\">estimator: KNeighborsClassifier</label><div class=\"sk-toggleable__content\"><pre>KNeighborsClassifier(n_jobs=-1)</pre></div></div></div><div class=\"sk-serial\"><div class=\"sk-item\"><div class=\"sk-estimator sk-toggleable\"><input class=\"sk-toggleable__control sk-hidden--visually\" id=\"sk-estimator-id-9\" type=\"checkbox\" ><label for=\"sk-estimator-id-9\" class=\"sk-toggleable__label sk-toggleable__label-arrow\">KNeighborsClassifier</label><div class=\"sk-toggleable__content\"><pre>KNeighborsClassifier(n_jobs=-1)</pre></div></div></div></div></div></div></div></div></div></div>"
     },
     "execution_count": 80,
     "metadata": {},
     "output_type": "execute_result"
    }
   ],
   "source": [
    "k = [1, 2, 3, 4, 5]\n",
    "cv = 10\n",
    "estimator = KNeighborsClassifier(n_jobs=)\n",
    "estimator_cv = GridSearchCV(estimator, param_grid={'n_neighbors': k}, cv=cv)\n",
    "estimator_cv.fit(feature_train, target_train)"
   ],
   "metadata": {
    "collapsed": false
   }
  },
  {
   "cell_type": "code",
   "execution_count": 81,
   "outputs": [
    {
     "name": "stdout",
     "output_type": "stream",
     "text": [
      "k=[1, 2, 3, 4, 5],cv=10时交叉验证的训练集最高准确度:\n",
      " 0.32313388803098564\n",
      "k=[1, 2, 3, 4, 5],cv=10时交叉验证的最好的参数模型:\n",
      " KNeighborsClassifier(n_jobs=-1, n_neighbors=1)\n",
      "k=[1, 2, 3, 4, 5],cv=10时交叉验证的最好的参数模型的k值:\n",
      " 1\n"
     ]
    }
   ],
   "source": [
    "print(f'k={k},cv={cv}时交叉验证的训练集最高准确度:\\n', estimator_cv.best_score_)\n",
    "print(f'k={k},cv={cv}时交叉验证的最好的参数模型:\\n', estimator_cv.best_estimator_)\n",
    "print(f'k={k},cv={cv}时交叉验证的最好的参数模型的k值:\\n', k_best := estimator_cv.best_estimator_.n_neighbors)"
   ],
   "metadata": {
    "collapsed": false
   }
  },
  {
   "cell_type": "code",
   "execution_count": 82,
   "outputs": [
    {
     "name": "stdout",
     "output_type": "stream",
     "text": [
      "最好的模型测试集的准确度:\n",
      " 0.32794558808316954\n"
     ]
    }
   ],
   "source": [
    "# 6、用最好的模型训练数据\n",
    "# 实例化估计器\n",
    "estimator_best = KNeighborsClassifier(n_neighbors=k_best)\n",
    "estimator_best.fit(feature_train, target_train)\n",
    "# 预测测试集，并返回测试集的准确率\n",
    "score_best = estimator_best.score(feature_test, target_test)\n",
    "print('最好的模型测试集的准确度:\\n', score_best)"
   ],
   "metadata": {
    "collapsed": false
   }
  },
  {
   "cell_type": "code",
   "execution_count": 83,
   "outputs": [
    {
     "name": "stdout",
     "output_type": "stream",
     "text": [
      "0:00:43.380488\n"
     ]
    }
   ],
   "source": [
    "end = datetime.datetime.now()\n",
    "print(end-start)"
   ],
   "metadata": {
    "collapsed": false
   }
  }
 ],
 "metadata": {
  "kernelspec": {
   "display_name": "Python 3 (ipykernel)",
   "language": "python",
   "name": "python3"
  },
  "language_info": {
   "codemirror_mode": {
    "name": "ipython",
    "version": 3
   },
   "file_extension": ".py",
   "mimetype": "text/x-python",
   "name": "python",
   "nbconvert_exporter": "python",
   "pygments_lexer": "ipython3",
   "version": "3.9.7"
  },
  "toc": {
   "base_numbering": 1,
   "nav_menu": {},
   "number_sections": true,
   "sideBar": true,
   "skip_h1_title": false,
   "title_cell": "Table of Contents",
   "title_sidebar": "Contents",
   "toc_cell": false,
   "toc_position": {},
   "toc_section_display": true,
   "toc_window_display": false
  }
 },
 "nbformat": 4,
 "nbformat_minor": 5
}