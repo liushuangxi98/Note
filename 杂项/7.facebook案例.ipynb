{
 "cells": [
  {
   "cell_type": "code",
   "execution_count": 1,
   "outputs": [],
   "source": [
    "import pandas as pd\n",
    "from sklearn.model_selection import train_test_split, GridSearchCV\n",
    "from sklearn.preprocessing import StandardScaler\n",
    "from sklearn.neighbors import KNeighborsClassifier\n",
    "import datetime"
   ],
   "metadata": {
    "collapsed": false
   }
  },
  {
   "cell_type": "code",
   "execution_count": 2,
   "outputs": [],
   "source": [
    "start = datetime.datetime.now()"
   ],
   "metadata": {
    "collapsed": false
   }
  },
  {
   "cell_type": "markdown",
   "source": [
    "## 获取数据集"
   ],
   "metadata": {
    "collapsed": false
   }
  },
  {
   "cell_type": "code",
   "execution_count": 3,
   "outputs": [],
   "source": [
    "facebook = pd.read_csv(r'D:\\file\\python\\黑马AI教程\\05阶段五 人工智能经典算法编程\\第五阶段 人工智能经典算法编程\\5-1 人工智能基础v5.0-代码和笔记\\第6节 K-邻近算法\\2. 其他资料\\预习数据\\FBlocation\\train.csv')"
   ],
   "metadata": {
    "collapsed": false
   }
  },
  {
   "cell_type": "code",
   "execution_count": 4,
   "outputs": [
    {
     "name": "stdout",
     "output_type": "stream",
     "text": [
      "   row_id       x       y  accuracy    time    place_id\n",
      "0       0  0.7941  9.0809        54  470702  8523065625\n",
      "1       1  5.9567  4.7968        13  186555  1757726713\n",
      "2       2  8.3078  7.0407        74  322648  1137537235\n",
      "3       3  7.3665  2.5165        65  704587  6567393236\n",
      "4       4  4.0961  1.1307        31  472130  7440663949\n"
     ]
    }
   ],
   "source": [
    "print(facebook.head())"
   ],
   "metadata": {
    "collapsed": false
   }
  },
  {
   "cell_type": "markdown",
   "source": [
    "## 数据基本处理"
   ],
   "metadata": {
    "collapsed": false
   }
  },
  {
   "cell_type": "markdown",
   "source": [
    "### 筛选一个区域"
   ],
   "metadata": {
    "collapsed": false
   }
  },
  {
   "cell_type": "code",
   "execution_count": 5,
   "outputs": [],
   "source": [
    "# facebook = facebook[(2<facebook['x'])&(3>facebook['x'])&(2<facebook['y'])&(3>facebook['y'])]"
   ],
   "metadata": {
    "collapsed": false
   }
  },
  {
   "cell_type": "code",
   "execution_count": 6,
   "outputs": [
    {
     "name": "stdout",
     "output_type": "stream",
     "text": [
      "   row_id       x       y  accuracy    time    place_id\n",
      "0       0  0.7941  9.0809        54  470702  8523065625\n",
      "1       1  5.9567  4.7968        13  186555  1757726713\n",
      "2       2  8.3078  7.0407        74  322648  1137537235\n",
      "3       3  7.3665  2.5165        65  704587  6567393236\n",
      "4       4  4.0961  1.1307        31  472130  7440663949\n"
     ]
    }
   ],
   "source": [
    "print(facebook.head())"
   ],
   "metadata": {
    "collapsed": false
   }
  },
  {
   "cell_type": "markdown",
   "source": [
    "### 将数据转为time类型"
   ],
   "metadata": {
    "collapsed": false
   }
  },
  {
   "cell_type": "code",
   "execution_count": 7,
   "outputs": [],
   "source": [
    "facebook_time = pd.to_datetime(facebook['time'],unit='s')"
   ],
   "metadata": {
    "collapsed": false
   }
  },
  {
   "cell_type": "code",
   "execution_count": 8,
   "outputs": [
    {
     "name": "stdout",
     "output_type": "stream",
     "text": [
      "0   1970-01-06 10:45:02\n",
      "1   1970-01-03 03:49:15\n",
      "2   1970-01-04 17:37:28\n",
      "3   1970-01-09 03:43:07\n",
      "4   1970-01-06 11:08:50\n",
      "Name: time, dtype: datetime64[ns]\n"
     ]
    }
   ],
   "source": [
    "print(facebook_time.head())"
   ],
   "metadata": {
    "collapsed": false
   }
  },
  {
   "cell_type": "markdown",
   "source": [
    "### 将时间转为Datetime类型"
   ],
   "metadata": {
    "collapsed": false
   }
  },
  {
   "cell_type": "code",
   "execution_count": 9,
   "outputs": [],
   "source": [
    "facebook_time = pd.DatetimeIndex(facebook_time)"
   ],
   "metadata": {
    "collapsed": false
   }
  },
  {
   "cell_type": "code",
   "execution_count": 10,
   "outputs": [
    {
     "name": "stdout",
     "output_type": "stream",
     "text": [
      "weekday: Int64Index([1, 5, 6, 4, 1, 5, 3, 0, 4, 0,\n",
      "            ...\n",
      "            4, 2, 1, 3, 2, 0, 4, 4, 4, 4],\n",
      "           dtype='int64', name='time', length=29118021)\n",
      "day: Int64Index([6, 3, 4, 9, 6, 3, 8, 5, 2, 5,\n",
      "            ...\n",
      "            2, 7, 6, 1, 7, 5, 2, 9, 9, 2],\n",
      "           dtype='int64', name='time', length=29118021)\n",
      "hour: Int64Index([10,  3, 17,  3, 11,  1, 17,  6, 22, 15,\n",
      "            ...\n",
      "             5,  2, 22, 11,  8, 15, 10, 12, 20,  4],\n",
      "           dtype='int64', name='time', length=29118021)\n",
      "minute: Int64Index([45, 49, 37, 43,  8, 27, 13, 30, 13,  7,\n",
      "            ...\n",
      "            57, 44, 33, 47, 40,  2, 51, 55, 29, 34],\n",
      "           dtype='int64', name='time', length=29118021)\n"
     ]
    }
   ],
   "source": [
    "print('weekday:',weekday:=facebook_time.weekday)\n",
    "print('day:',day:=facebook_time.day)\n",
    "print('hour:',hour:=facebook_time.hour)\n",
    "print('minute:',minute:=facebook_time.minute)"
   ],
   "metadata": {
    "collapsed": false
   }
  },
  {
   "cell_type": "markdown",
   "source": [
    "### 将周和天和小时写入"
   ],
   "metadata": {
    "collapsed": false
   }
  },
  {
   "cell_type": "code",
   "execution_count": 11,
   "outputs": [],
   "source": [
    "facebook['weekday'] = weekday\n",
    "facebook['day'] = day\n",
    "facebook['hour'] = hour\n",
    "facebook['minute'] = minute"
   ],
   "metadata": {
    "collapsed": false
   }
  },
  {
   "cell_type": "code",
   "execution_count": 12,
   "outputs": [
    {
     "name": "stdout",
     "output_type": "stream",
     "text": [
      "   row_id       x       y  accuracy    time    place_id  weekday  day  hour  \\\n",
      "0       0  0.7941  9.0809        54  470702  8523065625        1    6    10   \n",
      "1       1  5.9567  4.7968        13  186555  1757726713        5    3     3   \n",
      "2       2  8.3078  7.0407        74  322648  1137537235        6    4    17   \n",
      "3       3  7.3665  2.5165        65  704587  6567393236        4    9     3   \n",
      "4       4  4.0961  1.1307        31  472130  7440663949        1    6    11   \n",
      "\n",
      "   minute  \n",
      "0      45  \n",
      "1      49  \n",
      "2      37  \n",
      "3      43  \n",
      "4       8  \n"
     ]
    }
   ],
   "source": [
    "print(facebook.head())"
   ],
   "metadata": {
    "collapsed": false
   }
  },
  {
   "cell_type": "markdown",
   "source": [
    "### 原地删除掉之前的time列"
   ],
   "metadata": {
    "collapsed": false
   }
  },
  {
   "cell_type": "code",
   "execution_count": 13,
   "outputs": [],
   "source": [
    "facebook.drop('time',axis=1,inplace=True)"
   ],
   "metadata": {
    "collapsed": false
   }
  },
  {
   "cell_type": "code",
   "execution_count": 14,
   "outputs": [
    {
     "name": "stdout",
     "output_type": "stream",
     "text": [
      "   row_id       x       y  accuracy    place_id  weekday  day  hour  minute\n",
      "0       0  0.7941  9.0809        54  8523065625        1    6    10      45\n",
      "1       1  5.9567  4.7968        13  1757726713        5    3     3      49\n",
      "2       2  8.3078  7.0407        74  1137537235        6    4    17      37\n",
      "3       3  7.3665  2.5165        65  6567393236        4    9     3      43\n",
      "4       4  4.0961  1.1307        31  7440663949        1    6    11       8\n",
      "(29118021, 9)\n"
     ]
    }
   ],
   "source": [
    "print(facebook.head())\n",
    "print(facebook.shape)"
   ],
   "metadata": {
    "collapsed": false
   }
  },
  {
   "cell_type": "markdown",
   "source": [
    "### 去掉签到较少的地方"
   ],
   "metadata": {
    "collapsed": false
   }
  },
  {
   "cell_type": "code",
   "execution_count": 15,
   "outputs": [
    {
     "name": "stdout",
     "output_type": "stream",
     "text": [
      "            row_id    x    y  accuracy  weekday  day  hour  minute\n",
      "place_id                                                          \n",
      "1000015801      78   78   78        78       78   78    78      78\n",
      "1000017288      95   95   95        95       95   95    95      95\n",
      "1000025138     563  563  563       563      563  563   563     563\n",
      "1000052096     961  961  961       961      961  961   961     961\n",
      "1000063498      60   60   60        60       60   60    60      60\n",
      "...            ...  ...  ...       ...      ...  ...   ...     ...\n",
      "9999851158      60   60   60        60       60   60    60      60\n",
      "9999855083     212  212  212       212      212  212   212     212\n",
      "9999862567      63   63   63        63       63   63    63      63\n",
      "9999916757     508  508  508       508      508  508   508     508\n",
      "9999932225     218  218  218       218      218  218   218     218\n",
      "\n",
      "[107814 rows x 8 columns]\n"
     ]
    }
   ],
   "source": [
    "facebook_group = facebook.groupby('place_id').count()\n",
    "facebook_count = facebook_group[facebook_group['row_id']>3]\n",
    "print(facebook_count)"
   ],
   "metadata": {
    "collapsed": false
   }
  },
  {
   "cell_type": "code",
   "execution_count": 16,
   "outputs": [],
   "source": [
    "facebook = facebook[facebook['place_id'].isin(facebook_count.index)]"
   ],
   "metadata": {
    "collapsed": false
   }
  },
  {
   "cell_type": "code",
   "execution_count": 17,
   "outputs": [
    {
     "name": "stdout",
     "output_type": "stream",
     "text": [
      "   row_id       x       y  accuracy    place_id  weekday  day  hour  minute\n",
      "0       0  0.7941  9.0809        54  8523065625        1    6    10      45\n",
      "1       1  5.9567  4.7968        13  1757726713        5    3     3      49\n",
      "2       2  8.3078  7.0407        74  1137537235        6    4    17      37\n",
      "3       3  7.3665  2.5165        65  6567393236        4    9     3      43\n",
      "4       4  4.0961  1.1307        31  7440663949        1    6    11       8\n",
      "(29116952, 9)\n"
     ]
    }
   ],
   "source": [
    "print(facebook.head())\n",
    "print(facebook.shape)"
   ],
   "metadata": {
    "collapsed": false
   }
  },
  {
   "cell_type": "markdown",
   "source": [
    "### 确定特征值和目标值"
   ],
   "metadata": {
    "collapsed": false
   }
  },
  {
   "cell_type": "code",
   "execution_count": 18,
   "outputs": [],
   "source": [
    "feature = facebook[[\"x\", \"y\", \"accuracy\", \"day\", \"hour\", \"weekday\"]]\n",
    "# feature = facebook[[\"x\", \"y\", \"accuracy\", \"day\", \"hour\", \"weekday\",'minute']]\n",
    "target = facebook[\"place_id\"]"
   ],
   "metadata": {
    "collapsed": false
   }
  },
  {
   "cell_type": "markdown",
   "source": [
    "## 划分训练集和测试集"
   ],
   "metadata": {
    "collapsed": false
   }
  },
  {
   "cell_type": "code",
   "execution_count": 19,
   "outputs": [],
   "source": [
    "feature_train, feature_test, target_train, target_test = train_test_split(feature, target)"
   ],
   "metadata": {
    "collapsed": false
   }
  },
  {
   "cell_type": "markdown",
   "source": [
    "## 特征预处理,标准化"
   ],
   "metadata": {
    "collapsed": false
   }
  },
  {
   "cell_type": "code",
   "execution_count": 20,
   "outputs": [],
   "source": [
    "transfer = StandardScaler()\n",
    "feature_train = transfer.fit_transform(feature_train)\n",
    "feature_test = transfer.fit_transform(feature_test)"
   ],
   "metadata": {
    "collapsed": false
   }
  },
  {
   "cell_type": "markdown",
   "source": [
    "## 机器学习和交叉验证网格搜索knn-CV"
   ],
   "metadata": {
    "collapsed": false
   }
  },
  {
   "cell_type": "code",
   "execution_count": 21,
   "outputs": [
    {
     "name": "stderr",
     "output_type": "stream",
     "text": [
      "D:\\Programs\\Python\\venu\\lib\\site-packages\\sklearn\\model_selection\\_split.py:676: UserWarning: The least populated class in y has only 1 members, which is less than n_splits=15.\n",
      "  warnings.warn(\n"
     ]
    },
    {
     "data": {
      "text/plain": "GridSearchCV(cv=15, estimator=KNeighborsClassifier(),\n             param_grid={'n_neighbors': [1, 2, 3, 4, 5, 10]})"
     },
     "execution_count": 21,
     "metadata": {},
     "output_type": "execute_result"
    }
   ],
   "source": [
    "k = [1, 2, 3, 4, 5]\n",
    "cv = 5\n",
    "estimator = KNeighborsClassifier()\n",
    "estimator_cv = GridSearchCV(estimator, param_grid={'n_neighbors': k}, cv=cv)\n",
    "estimator_cv.fit(feature_train, target_train)"
   ],
   "metadata": {
    "collapsed": false
   }
  },
  {
   "cell_type": "code",
   "execution_count": 22,
   "outputs": [
    {
     "name": "stdout",
     "output_type": "stream",
     "text": [
      "k=[1, 2, 3, 4, 5, 10],cv=15时交叉验证的训练集最高准确度:\n",
      " 0.11630168798090439\n",
      "k=[1, 2, 3, 4, 5, 10],cv=15时交叉验证的最好的参数模型:\n",
      " KNeighborsClassifier(n_neighbors=1)\n",
      "k=[1, 2, 3, 4, 5, 10],cv=15时交叉验证的最好的参数模型的k值:\n",
      " 1\n"
     ]
    }
   ],
   "source": [
    "print(f'k={k},cv={cv}时交叉验证的训练集最高准确度:\\n', estimator_cv.best_score_)\n",
    "print(f'k={k},cv={cv}时交叉验证的最好的参数模型:\\n', estimator_cv.best_estimator_)\n",
    "print(f'k={k},cv={cv}时交叉验证的最好的参数模型的k值:\\n', k_best := estimator_cv.best_estimator_.n_neighbors)"
   ],
   "metadata": {
    "collapsed": false
   }
  },
  {
   "cell_type": "code",
   "execution_count": 23,
   "outputs": [
    {
     "name": "stdout",
     "output_type": "stream",
     "text": [
      "最好的模型测试集的准确度:\n",
      " 0.1197533313239655\n"
     ]
    }
   ],
   "source": [
    "# 6、用最好的模型训练数据\n",
    "# 实例化估计器\n",
    "estimator_best = KNeighborsClassifier(n_neighbors=k_best)\n",
    "estimator_best.fit(feature_train, target_train)\n",
    "# 预测测试集，并返回测试集的准确率\n",
    "score_best = estimator_best.score(feature_test, target_test)\n",
    "print('最好的模型测试集的准确度:\\n', score_best)"
   ],
   "metadata": {
    "collapsed": false
   }
  },
  {
   "cell_type": "code",
   "execution_count": 24,
   "outputs": [
    {
     "name": "stdout",
     "output_type": "stream",
     "text": [
      "9:41:56.418093\n"
     ]
    }
   ],
   "source": [
    "end = datetime.datetime.now()\n",
    "print(end-start)"
   ],
   "metadata": {
    "collapsed": false
   }
  }
 ],
 "metadata": {
  "kernelspec": {
   "display_name": "Python 3 (ipykernel)",
   "language": "python",
   "name": "python3"
  },
  "language_info": {
   "codemirror_mode": {
    "name": "ipython",
    "version": 3
   },
   "file_extension": ".py",
   "mimetype": "text/x-python",
   "name": "python",
   "nbconvert_exporter": "python",
   "pygments_lexer": "ipython3",
   "version": "3.9.7"
  },
  "toc": {
   "base_numbering": 1,
   "nav_menu": {},
   "number_sections": true,
   "sideBar": true,
   "skip_h1_title": false,
   "title_cell": "Table of Contents",
   "title_sidebar": "Contents",
   "toc_cell": false,
   "toc_position": {},
   "toc_section_display": true,
   "toc_window_display": false
  }
 },
 "nbformat": 4,
 "nbformat_minor": 5
}
