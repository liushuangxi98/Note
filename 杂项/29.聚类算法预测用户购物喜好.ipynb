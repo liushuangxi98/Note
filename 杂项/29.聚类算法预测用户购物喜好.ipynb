{
 "cells": [
  {
   "cell_type": "code",
   "execution_count": 15,
   "outputs": [],
   "source": [
    "import pandas as pd\n",
    "from sklearn.decomposition import PCA\n",
    "from sklearn.cluster import KMeans\n",
    "from sklearn.metrics import silhouette_score\n",
    "from sklearn.metrics import calinski_harabasz_score\n",
    "import time"
   ],
   "metadata": {
    "collapsed": false,
    "pycharm": {
     "name": "#%%\n"
    }
   }
  },
  {
   "cell_type": "code",
   "execution_count": 16,
   "outputs": [],
   "source": [
    "# 1.获取数据\n",
    "order_product = pd.read_csv(\"./29.预测用户对物品喜好案例_数据/order_products__prior.csv\")\n",
    "products = pd.read_csv(\"./29.预测用户对物品喜好案例_数据/products.csv\")\n",
    "orders = pd.read_csv(\"./29.预测用户对物品喜好案例_数据/orders.csv\")\n",
    "aisles = pd.read_csv(\"./29.预测用户对物品喜好案例_数据/aisles.csv\")"
   ],
   "metadata": {
    "collapsed": false,
    "pycharm": {
     "name": "#%%\n"
    }
   }
  },
  {
   "cell_type": "code",
   "execution_count": 17,
   "outputs": [
    {
     "data": {
      "text/plain": "          order_id  product_id  add_to_cart_order  reordered\n0                2       33120                  1          1\n1                2       28985                  2          1\n2                2        9327                  3          0\n3                2       45918                  4          1\n4                2       30035                  5          0\n...            ...         ...                ...        ...\n32434484   3421083       39678                  6          1\n32434485   3421083       11352                  7          0\n32434486   3421083        4600                  8          0\n32434487   3421083       24852                  9          1\n32434488   3421083        5020                 10          1\n\n[32434489 rows x 4 columns]",
      "text/html": "<div>\n<style scoped>\n    .dataframe tbody tr th:only-of-type {\n        vertical-align: middle;\n    }\n\n    .dataframe tbody tr th {\n        vertical-align: top;\n    }\n\n    .dataframe thead th {\n        text-align: right;\n    }\n</style>\n<table border=\"1\" class=\"dataframe\">\n  <thead>\n    <tr style=\"text-align: right;\">\n      <th></th>\n      <th>order_id</th>\n      <th>product_id</th>\n      <th>add_to_cart_order</th>\n      <th>reordered</th>\n    </tr>\n  </thead>\n  <tbody>\n    <tr>\n      <th>0</th>\n      <td>2</td>\n      <td>33120</td>\n      <td>1</td>\n      <td>1</td>\n    </tr>\n    <tr>\n      <th>1</th>\n      <td>2</td>\n      <td>28985</td>\n      <td>2</td>\n      <td>1</td>\n    </tr>\n    <tr>\n      <th>2</th>\n      <td>2</td>\n      <td>9327</td>\n      <td>3</td>\n      <td>0</td>\n    </tr>\n    <tr>\n      <th>3</th>\n      <td>2</td>\n      <td>45918</td>\n      <td>4</td>\n      <td>1</td>\n    </tr>\n    <tr>\n      <th>4</th>\n      <td>2</td>\n      <td>30035</td>\n      <td>5</td>\n      <td>0</td>\n    </tr>\n    <tr>\n      <th>...</th>\n      <td>...</td>\n      <td>...</td>\n      <td>...</td>\n      <td>...</td>\n    </tr>\n    <tr>\n      <th>32434484</th>\n      <td>3421083</td>\n      <td>39678</td>\n      <td>6</td>\n      <td>1</td>\n    </tr>\n    <tr>\n      <th>32434485</th>\n      <td>3421083</td>\n      <td>11352</td>\n      <td>7</td>\n      <td>0</td>\n    </tr>\n    <tr>\n      <th>32434486</th>\n      <td>3421083</td>\n      <td>4600</td>\n      <td>8</td>\n      <td>0</td>\n    </tr>\n    <tr>\n      <th>32434487</th>\n      <td>3421083</td>\n      <td>24852</td>\n      <td>9</td>\n      <td>1</td>\n    </tr>\n    <tr>\n      <th>32434488</th>\n      <td>3421083</td>\n      <td>5020</td>\n      <td>10</td>\n      <td>1</td>\n    </tr>\n  </tbody>\n</table>\n<p>32434489 rows × 4 columns</p>\n</div>"
     },
     "execution_count": 17,
     "metadata": {},
     "output_type": "execute_result"
    }
   ],
   "source": [
    "order_product"
   ],
   "metadata": {
    "collapsed": false,
    "pycharm": {
     "name": "#%%\n"
    }
   }
  },
  {
   "cell_type": "code",
   "execution_count": 18,
   "outputs": [
    {
     "data": {
      "text/plain": "       product_id                                       product_name  \\\n0               1                         Chocolate Sandwich Cookies   \n1               2                                   All-Seasons Salt   \n2               3               Robust Golden Unsweetened Oolong Tea   \n3               4  Smart Ones Classic Favorites Mini Rigatoni Wit...   \n4               5                          Green Chile Anytime Sauce   \n...           ...                                                ...   \n49683       49684          Vodka, Triple Distilled, Twist of Vanilla   \n49684       49685                 En Croute Roast Hazelnut Cranberry   \n49685       49686                                   Artisan Baguette   \n49686       49687         Smartblend Healthy Metabolism Dry Cat Food   \n49687       49688                             Fresh Foaming Cleanser   \n\n       aisle_id  department_id  \n0            61             19  \n1           104             13  \n2            94              7  \n3            38              1  \n4             5             13  \n...         ...            ...  \n49683       124              5  \n49684        42              1  \n49685       112              3  \n49686        41              8  \n49687        73             11  \n\n[49688 rows x 4 columns]",
      "text/html": "<div>\n<style scoped>\n    .dataframe tbody tr th:only-of-type {\n        vertical-align: middle;\n    }\n\n    .dataframe tbody tr th {\n        vertical-align: top;\n    }\n\n    .dataframe thead th {\n        text-align: right;\n    }\n</style>\n<table border=\"1\" class=\"dataframe\">\n  <thead>\n    <tr style=\"text-align: right;\">\n      <th></th>\n      <th>product_id</th>\n      <th>product_name</th>\n      <th>aisle_id</th>\n      <th>department_id</th>\n    </tr>\n  </thead>\n  <tbody>\n    <tr>\n      <th>0</th>\n      <td>1</td>\n      <td>Chocolate Sandwich Cookies</td>\n      <td>61</td>\n      <td>19</td>\n    </tr>\n    <tr>\n      <th>1</th>\n      <td>2</td>\n      <td>All-Seasons Salt</td>\n      <td>104</td>\n      <td>13</td>\n    </tr>\n    <tr>\n      <th>2</th>\n      <td>3</td>\n      <td>Robust Golden Unsweetened Oolong Tea</td>\n      <td>94</td>\n      <td>7</td>\n    </tr>\n    <tr>\n      <th>3</th>\n      <td>4</td>\n      <td>Smart Ones Classic Favorites Mini Rigatoni Wit...</td>\n      <td>38</td>\n      <td>1</td>\n    </tr>\n    <tr>\n      <th>4</th>\n      <td>5</td>\n      <td>Green Chile Anytime Sauce</td>\n      <td>5</td>\n      <td>13</td>\n    </tr>\n    <tr>\n      <th>...</th>\n      <td>...</td>\n      <td>...</td>\n      <td>...</td>\n      <td>...</td>\n    </tr>\n    <tr>\n      <th>49683</th>\n      <td>49684</td>\n      <td>Vodka, Triple Distilled, Twist of Vanilla</td>\n      <td>124</td>\n      <td>5</td>\n    </tr>\n    <tr>\n      <th>49684</th>\n      <td>49685</td>\n      <td>En Croute Roast Hazelnut Cranberry</td>\n      <td>42</td>\n      <td>1</td>\n    </tr>\n    <tr>\n      <th>49685</th>\n      <td>49686</td>\n      <td>Artisan Baguette</td>\n      <td>112</td>\n      <td>3</td>\n    </tr>\n    <tr>\n      <th>49686</th>\n      <td>49687</td>\n      <td>Smartblend Healthy Metabolism Dry Cat Food</td>\n      <td>41</td>\n      <td>8</td>\n    </tr>\n    <tr>\n      <th>49687</th>\n      <td>49688</td>\n      <td>Fresh Foaming Cleanser</td>\n      <td>73</td>\n      <td>11</td>\n    </tr>\n  </tbody>\n</table>\n<p>49688 rows × 4 columns</p>\n</div>"
     },
     "execution_count": 18,
     "metadata": {},
     "output_type": "execute_result"
    }
   ],
   "source": [
    "products"
   ],
   "metadata": {
    "collapsed": false,
    "pycharm": {
     "name": "#%%\n"
    }
   }
  },
  {
   "cell_type": "code",
   "execution_count": 19,
   "outputs": [
    {
     "data": {
      "text/plain": "         order_id  user_id eval_set  order_number  order_dow  \\\n0         2539329        1    prior             1          2   \n1         2398795        1    prior             2          3   \n2          473747        1    prior             3          3   \n3         2254736        1    prior             4          4   \n4          431534        1    prior             5          4   \n...           ...      ...      ...           ...        ...   \n3421078   2266710   206209    prior            10          5   \n3421079   1854736   206209    prior            11          4   \n3421080    626363   206209    prior            12          1   \n3421081   2977660   206209    prior            13          1   \n3421082    272231   206209    train            14          6   \n\n         order_hour_of_day  days_since_prior_order  \n0                        8                     NaN  \n1                        7                    15.0  \n2                       12                    21.0  \n3                        7                    29.0  \n4                       15                    28.0  \n...                    ...                     ...  \n3421078                 18                    29.0  \n3421079                 10                    30.0  \n3421080                 12                    18.0  \n3421081                 12                     7.0  \n3421082                 14                    30.0  \n\n[3421083 rows x 7 columns]",
      "text/html": "<div>\n<style scoped>\n    .dataframe tbody tr th:only-of-type {\n        vertical-align: middle;\n    }\n\n    .dataframe tbody tr th {\n        vertical-align: top;\n    }\n\n    .dataframe thead th {\n        text-align: right;\n    }\n</style>\n<table border=\"1\" class=\"dataframe\">\n  <thead>\n    <tr style=\"text-align: right;\">\n      <th></th>\n      <th>order_id</th>\n      <th>user_id</th>\n      <th>eval_set</th>\n      <th>order_number</th>\n      <th>order_dow</th>\n      <th>order_hour_of_day</th>\n      <th>days_since_prior_order</th>\n    </tr>\n  </thead>\n  <tbody>\n    <tr>\n      <th>0</th>\n      <td>2539329</td>\n      <td>1</td>\n      <td>prior</td>\n      <td>1</td>\n      <td>2</td>\n      <td>8</td>\n      <td>NaN</td>\n    </tr>\n    <tr>\n      <th>1</th>\n      <td>2398795</td>\n      <td>1</td>\n      <td>prior</td>\n      <td>2</td>\n      <td>3</td>\n      <td>7</td>\n      <td>15.0</td>\n    </tr>\n    <tr>\n      <th>2</th>\n      <td>473747</td>\n      <td>1</td>\n      <td>prior</td>\n      <td>3</td>\n      <td>3</td>\n      <td>12</td>\n      <td>21.0</td>\n    </tr>\n    <tr>\n      <th>3</th>\n      <td>2254736</td>\n      <td>1</td>\n      <td>prior</td>\n      <td>4</td>\n      <td>4</td>\n      <td>7</td>\n      <td>29.0</td>\n    </tr>\n    <tr>\n      <th>4</th>\n      <td>431534</td>\n      <td>1</td>\n      <td>prior</td>\n      <td>5</td>\n      <td>4</td>\n      <td>15</td>\n      <td>28.0</td>\n    </tr>\n    <tr>\n      <th>...</th>\n      <td>...</td>\n      <td>...</td>\n      <td>...</td>\n      <td>...</td>\n      <td>...</td>\n      <td>...</td>\n      <td>...</td>\n    </tr>\n    <tr>\n      <th>3421078</th>\n      <td>2266710</td>\n      <td>206209</td>\n      <td>prior</td>\n      <td>10</td>\n      <td>5</td>\n      <td>18</td>\n      <td>29.0</td>\n    </tr>\n    <tr>\n      <th>3421079</th>\n      <td>1854736</td>\n      <td>206209</td>\n      <td>prior</td>\n      <td>11</td>\n      <td>4</td>\n      <td>10</td>\n      <td>30.0</td>\n    </tr>\n    <tr>\n      <th>3421080</th>\n      <td>626363</td>\n      <td>206209</td>\n      <td>prior</td>\n      <td>12</td>\n      <td>1</td>\n      <td>12</td>\n      <td>18.0</td>\n    </tr>\n    <tr>\n      <th>3421081</th>\n      <td>2977660</td>\n      <td>206209</td>\n      <td>prior</td>\n      <td>13</td>\n      <td>1</td>\n      <td>12</td>\n      <td>7.0</td>\n    </tr>\n    <tr>\n      <th>3421082</th>\n      <td>272231</td>\n      <td>206209</td>\n      <td>train</td>\n      <td>14</td>\n      <td>6</td>\n      <td>14</td>\n      <td>30.0</td>\n    </tr>\n  </tbody>\n</table>\n<p>3421083 rows × 7 columns</p>\n</div>"
     },
     "execution_count": 19,
     "metadata": {},
     "output_type": "execute_result"
    }
   ],
   "source": [
    "orders"
   ],
   "metadata": {
    "collapsed": false,
    "pycharm": {
     "name": "#%%\n"
    }
   }
  },
  {
   "cell_type": "code",
   "execution_count": 20,
   "outputs": [
    {
     "data": {
      "text/plain": "     aisle_id                       aisle\n0           1       prepared soups salads\n1           2           specialty cheeses\n2           3         energy granola bars\n3           4               instant foods\n4           5  marinades meat preparation\n..        ...                         ...\n129       130    hot cereal pancake mixes\n130       131                   dry pasta\n131       132                      beauty\n132       133  muscles joints pain relief\n133       134  specialty wines champagnes\n\n[134 rows x 2 columns]",
      "text/html": "<div>\n<style scoped>\n    .dataframe tbody tr th:only-of-type {\n        vertical-align: middle;\n    }\n\n    .dataframe tbody tr th {\n        vertical-align: top;\n    }\n\n    .dataframe thead th {\n        text-align: right;\n    }\n</style>\n<table border=\"1\" class=\"dataframe\">\n  <thead>\n    <tr style=\"text-align: right;\">\n      <th></th>\n      <th>aisle_id</th>\n      <th>aisle</th>\n    </tr>\n  </thead>\n  <tbody>\n    <tr>\n      <th>0</th>\n      <td>1</td>\n      <td>prepared soups salads</td>\n    </tr>\n    <tr>\n      <th>1</th>\n      <td>2</td>\n      <td>specialty cheeses</td>\n    </tr>\n    <tr>\n      <th>2</th>\n      <td>3</td>\n      <td>energy granola bars</td>\n    </tr>\n    <tr>\n      <th>3</th>\n      <td>4</td>\n      <td>instant foods</td>\n    </tr>\n    <tr>\n      <th>4</th>\n      <td>5</td>\n      <td>marinades meat preparation</td>\n    </tr>\n    <tr>\n      <th>...</th>\n      <td>...</td>\n      <td>...</td>\n    </tr>\n    <tr>\n      <th>129</th>\n      <td>130</td>\n      <td>hot cereal pancake mixes</td>\n    </tr>\n    <tr>\n      <th>130</th>\n      <td>131</td>\n      <td>dry pasta</td>\n    </tr>\n    <tr>\n      <th>131</th>\n      <td>132</td>\n      <td>beauty</td>\n    </tr>\n    <tr>\n      <th>132</th>\n      <td>133</td>\n      <td>muscles joints pain relief</td>\n    </tr>\n    <tr>\n      <th>133</th>\n      <td>134</td>\n      <td>specialty wines champagnes</td>\n    </tr>\n  </tbody>\n</table>\n<p>134 rows × 2 columns</p>\n</div>"
     },
     "execution_count": 20,
     "metadata": {},
     "output_type": "execute_result"
    }
   ],
   "source": [
    "aisles"
   ],
   "metadata": {
    "collapsed": false,
    "pycharm": {
     "name": "#%%\n"
    }
   }
  },
  {
   "cell_type": "code",
   "execution_count": 21,
   "outputs": [],
   "source": [
    "# 2.数据处理\n",
    "# 2.1 合并表格\n",
    "table1 = pd.merge(order_product, products, on=[\"product_id\", \"product_id\"])\n",
    "table2 = pd.merge(table1, orders, on=[\"order_id\", \"order_id\"])\n",
    "table = pd.merge(table2, aisles, on=[\"aisle_id\", \"aisle_id\"])"
   ],
   "metadata": {
    "collapsed": false,
    "pycharm": {
     "name": "#%%\n"
    }
   }
  },
  {
   "cell_type": "code",
   "execution_count": 22,
   "outputs": [
    {
     "data": {
      "text/plain": "          order_id  product_id  add_to_cart_order  reordered  \\\n0                2       33120                  1          1   \n1               26       33120                  5          0   \n2              120       33120                 13          0   \n3              327       33120                  5          1   \n4              390       33120                 28          1   \n...            ...         ...                ...        ...   \n32434484   3243156       20731                  1          0   \n32434485    860862       30582                  1          0   \n32434486   1333472       27906                  1          0   \n32434487   2122701       26086                  1          1   \n32434488   3168475       26086                  1          1   \n\n                          product_name  aisle_id  department_id  user_id  \\\n0                   Organic Egg Whites        86             16   202279   \n1                   Organic Egg Whites        86             16   153404   \n2                   Organic Egg Whites        86             16    23750   \n3                   Organic Egg Whites        86             16    58707   \n4                   Organic Egg Whites        86             16   166654   \n...                                ...       ...            ...      ...   \n32434484               Straight Sherry       134              5   166400   \n32434485             Natural Champagne       134              5   104017   \n32434486            Imperial Champagne       134              5    62079   \n32434487  La Grand Dame Brut Champagne       134              5    77799   \n32434488  La Grand Dame Brut Champagne       134              5     5223   \n\n         eval_set  order_number  order_dow  order_hour_of_day  \\\n0           prior             3          5                  9   \n1           prior             2          0                 16   \n2           prior            11          6                  8   \n3           prior            21          6                  9   \n4           prior            48          0                 12   \n...           ...           ...        ...                ...   \n32434484    prior             3          1                 13   \n32434485    prior            13          5                 14   \n32434486    prior            10          3                 10   \n32434487    prior             2          3                 14   \n32434488    prior             7          3                 13   \n\n          days_since_prior_order                       aisle  \n0                            8.0                        eggs  \n1                            7.0                        eggs  \n2                           10.0                        eggs  \n3                            8.0                        eggs  \n4                            9.0                        eggs  \n...                          ...                         ...  \n32434484                    12.0  specialty wines champagnes  \n32434485                    18.0  specialty wines champagnes  \n32434486                    10.0  specialty wines champagnes  \n32434487                     3.0  specialty wines champagnes  \n32434488                     2.0  specialty wines champagnes  \n\n[32434489 rows x 14 columns]",
      "text/html": "<div>\n<style scoped>\n    .dataframe tbody tr th:only-of-type {\n        vertical-align: middle;\n    }\n\n    .dataframe tbody tr th {\n        vertical-align: top;\n    }\n\n    .dataframe thead th {\n        text-align: right;\n    }\n</style>\n<table border=\"1\" class=\"dataframe\">\n  <thead>\n    <tr style=\"text-align: right;\">\n      <th></th>\n      <th>order_id</th>\n      <th>product_id</th>\n      <th>add_to_cart_order</th>\n      <th>reordered</th>\n      <th>product_name</th>\n      <th>aisle_id</th>\n      <th>department_id</th>\n      <th>user_id</th>\n      <th>eval_set</th>\n      <th>order_number</th>\n      <th>order_dow</th>\n      <th>order_hour_of_day</th>\n      <th>days_since_prior_order</th>\n      <th>aisle</th>\n    </tr>\n  </thead>\n  <tbody>\n    <tr>\n      <th>0</th>\n      <td>2</td>\n      <td>33120</td>\n      <td>1</td>\n      <td>1</td>\n      <td>Organic Egg Whites</td>\n      <td>86</td>\n      <td>16</td>\n      <td>202279</td>\n      <td>prior</td>\n      <td>3</td>\n      <td>5</td>\n      <td>9</td>\n      <td>8.0</td>\n      <td>eggs</td>\n    </tr>\n    <tr>\n      <th>1</th>\n      <td>26</td>\n      <td>33120</td>\n      <td>5</td>\n      <td>0</td>\n      <td>Organic Egg Whites</td>\n      <td>86</td>\n      <td>16</td>\n      <td>153404</td>\n      <td>prior</td>\n      <td>2</td>\n      <td>0</td>\n      <td>16</td>\n      <td>7.0</td>\n      <td>eggs</td>\n    </tr>\n    <tr>\n      <th>2</th>\n      <td>120</td>\n      <td>33120</td>\n      <td>13</td>\n      <td>0</td>\n      <td>Organic Egg Whites</td>\n      <td>86</td>\n      <td>16</td>\n      <td>23750</td>\n      <td>prior</td>\n      <td>11</td>\n      <td>6</td>\n      <td>8</td>\n      <td>10.0</td>\n      <td>eggs</td>\n    </tr>\n    <tr>\n      <th>3</th>\n      <td>327</td>\n      <td>33120</td>\n      <td>5</td>\n      <td>1</td>\n      <td>Organic Egg Whites</td>\n      <td>86</td>\n      <td>16</td>\n      <td>58707</td>\n      <td>prior</td>\n      <td>21</td>\n      <td>6</td>\n      <td>9</td>\n      <td>8.0</td>\n      <td>eggs</td>\n    </tr>\n    <tr>\n      <th>4</th>\n      <td>390</td>\n      <td>33120</td>\n      <td>28</td>\n      <td>1</td>\n      <td>Organic Egg Whites</td>\n      <td>86</td>\n      <td>16</td>\n      <td>166654</td>\n      <td>prior</td>\n      <td>48</td>\n      <td>0</td>\n      <td>12</td>\n      <td>9.0</td>\n      <td>eggs</td>\n    </tr>\n    <tr>\n      <th>...</th>\n      <td>...</td>\n      <td>...</td>\n      <td>...</td>\n      <td>...</td>\n      <td>...</td>\n      <td>...</td>\n      <td>...</td>\n      <td>...</td>\n      <td>...</td>\n      <td>...</td>\n      <td>...</td>\n      <td>...</td>\n      <td>...</td>\n      <td>...</td>\n    </tr>\n    <tr>\n      <th>32434484</th>\n      <td>3243156</td>\n      <td>20731</td>\n      <td>1</td>\n      <td>0</td>\n      <td>Straight Sherry</td>\n      <td>134</td>\n      <td>5</td>\n      <td>166400</td>\n      <td>prior</td>\n      <td>3</td>\n      <td>1</td>\n      <td>13</td>\n      <td>12.0</td>\n      <td>specialty wines champagnes</td>\n    </tr>\n    <tr>\n      <th>32434485</th>\n      <td>860862</td>\n      <td>30582</td>\n      <td>1</td>\n      <td>0</td>\n      <td>Natural Champagne</td>\n      <td>134</td>\n      <td>5</td>\n      <td>104017</td>\n      <td>prior</td>\n      <td>13</td>\n      <td>5</td>\n      <td>14</td>\n      <td>18.0</td>\n      <td>specialty wines champagnes</td>\n    </tr>\n    <tr>\n      <th>32434486</th>\n      <td>1333472</td>\n      <td>27906</td>\n      <td>1</td>\n      <td>0</td>\n      <td>Imperial Champagne</td>\n      <td>134</td>\n      <td>5</td>\n      <td>62079</td>\n      <td>prior</td>\n      <td>10</td>\n      <td>3</td>\n      <td>10</td>\n      <td>10.0</td>\n      <td>specialty wines champagnes</td>\n    </tr>\n    <tr>\n      <th>32434487</th>\n      <td>2122701</td>\n      <td>26086</td>\n      <td>1</td>\n      <td>1</td>\n      <td>La Grand Dame Brut Champagne</td>\n      <td>134</td>\n      <td>5</td>\n      <td>77799</td>\n      <td>prior</td>\n      <td>2</td>\n      <td>3</td>\n      <td>14</td>\n      <td>3.0</td>\n      <td>specialty wines champagnes</td>\n    </tr>\n    <tr>\n      <th>32434488</th>\n      <td>3168475</td>\n      <td>26086</td>\n      <td>1</td>\n      <td>1</td>\n      <td>La Grand Dame Brut Champagne</td>\n      <td>134</td>\n      <td>5</td>\n      <td>5223</td>\n      <td>prior</td>\n      <td>7</td>\n      <td>3</td>\n      <td>13</td>\n      <td>2.0</td>\n      <td>specialty wines champagnes</td>\n    </tr>\n  </tbody>\n</table>\n<p>32434489 rows × 14 columns</p>\n</div>"
     },
     "execution_count": 22,
     "metadata": {},
     "output_type": "execute_result"
    }
   ],
   "source": [
    "table"
   ],
   "metadata": {
    "collapsed": false,
    "pycharm": {
     "name": "#%%\n"
    }
   }
  },
  {
   "cell_type": "code",
   "execution_count": 23,
   "outputs": [],
   "source": [
    "# 2.2 交叉表合并\n",
    "table_cross = pd.crosstab(table[\"user_id\"], table[\"aisle\"])"
   ],
   "metadata": {
    "collapsed": false,
    "pycharm": {
     "name": "#%%\n"
    }
   }
  },
  {
   "cell_type": "code",
   "execution_count": 24,
   "outputs": [
    {
     "data": {
      "text/plain": "aisle    air fresheners candles  asian foods  baby accessories  \\\nuser_id                                                          \n1                             0            0                 0   \n2                             0            3                 0   \n3                             0            0                 0   \n4                             0            0                 0   \n5                             0            2                 0   \n...                         ...          ...               ...   \n206205                        0            0                 1   \n206206                        0            4                 0   \n206207                        0            0                 0   \n206208                        0            3                 0   \n206209                        0            1                 0   \n\naisle    baby bath body care  baby food formula  bakery desserts  \\\nuser_id                                                            \n1                          0                  0                0   \n2                          0                  0                0   \n3                          0                  0                0   \n4                          0                  0                0   \n5                          0                  0                0   \n...                      ...                ...              ...   \n206205                     0                  0                0   \n206206                     0                  0                0   \n206207                     0                  1                0   \n206208                     0                  3                0   \n206209                     0                  0                0   \n\naisle    baking ingredients  baking supplies decor  beauty  beers coolers  \\\nuser_id                                                                     \n1                         0                      0       0              0   \n2                         2                      0       0              0   \n3                         0                      0       0              0   \n4                         0                      0       0              0   \n5                         0                      0       0              0   \n...                     ...                    ...     ...            ...   \n206205                    0                      0       0              0   \n206206                    4                      1       0              0   \n206207                    0                      0       0              0   \n206208                    4                      0       0              0   \n206209                    0                      0       0              0   \n\naisle    ...  spreads  tea  tofu meat alternatives  tortillas flat bread  \\\nuser_id  ...                                                               \n1        ...        1    0                       0                     0   \n2        ...        3    1                       1                     0   \n3        ...        4    1                       0                     0   \n4        ...        0    0                       0                     1   \n5        ...        0    0                       0                     0   \n...      ...      ...  ...                     ...                   ...   \n206205   ...        0    0                       0                     0   \n206206   ...        1    0                       0                     0   \n206207   ...        3    4                       0                     2   \n206208   ...        5    0                       0                     7   \n206209   ...        0    0                       0                     0   \n\naisle    trail mix snack mix  trash bags liners  vitamins supplements  \\\nuser_id                                                                 \n1                          0                  0                     0   \n2                          0                  0                     0   \n3                          0                  0                     0   \n4                          0                  0                     0   \n5                          0                  0                     0   \n...                      ...                ...                   ...   \n206205                     0                  0                     0   \n206206                     0                  1                     0   \n206207                     1                  0                     0   \n206208                     0                  0                     0   \n206209                     0                  1                     0   \n\naisle    water seltzer sparkling water  white wines  yogurt  \nuser_id                                                      \n1                                    0            0       1  \n2                                    2            0      42  \n3                                    2            0       0  \n4                                    1            0       0  \n5                                    0            0       3  \n...                                ...          ...     ...  \n206205                               0            0       5  \n206206                               1            0       0  \n206207                              11            0      15  \n206208                               0            0      33  \n206209                               0            0       3  \n\n[206209 rows x 134 columns]",
      "text/html": "<div>\n<style scoped>\n    .dataframe tbody tr th:only-of-type {\n        vertical-align: middle;\n    }\n\n    .dataframe tbody tr th {\n        vertical-align: top;\n    }\n\n    .dataframe thead th {\n        text-align: right;\n    }\n</style>\n<table border=\"1\" class=\"dataframe\">\n  <thead>\n    <tr style=\"text-align: right;\">\n      <th>aisle</th>\n      <th>air fresheners candles</th>\n      <th>asian foods</th>\n      <th>baby accessories</th>\n      <th>baby bath body care</th>\n      <th>baby food formula</th>\n      <th>bakery desserts</th>\n      <th>baking ingredients</th>\n      <th>baking supplies decor</th>\n      <th>beauty</th>\n      <th>beers coolers</th>\n      <th>...</th>\n      <th>spreads</th>\n      <th>tea</th>\n      <th>tofu meat alternatives</th>\n      <th>tortillas flat bread</th>\n      <th>trail mix snack mix</th>\n      <th>trash bags liners</th>\n      <th>vitamins supplements</th>\n      <th>water seltzer sparkling water</th>\n      <th>white wines</th>\n      <th>yogurt</th>\n    </tr>\n    <tr>\n      <th>user_id</th>\n      <th></th>\n      <th></th>\n      <th></th>\n      <th></th>\n      <th></th>\n      <th></th>\n      <th></th>\n      <th></th>\n      <th></th>\n      <th></th>\n      <th></th>\n      <th></th>\n      <th></th>\n      <th></th>\n      <th></th>\n      <th></th>\n      <th></th>\n      <th></th>\n      <th></th>\n      <th></th>\n      <th></th>\n    </tr>\n  </thead>\n  <tbody>\n    <tr>\n      <th>1</th>\n      <td>0</td>\n      <td>0</td>\n      <td>0</td>\n      <td>0</td>\n      <td>0</td>\n      <td>0</td>\n      <td>0</td>\n      <td>0</td>\n      <td>0</td>\n      <td>0</td>\n      <td>...</td>\n      <td>1</td>\n      <td>0</td>\n      <td>0</td>\n      <td>0</td>\n      <td>0</td>\n      <td>0</td>\n      <td>0</td>\n      <td>0</td>\n      <td>0</td>\n      <td>1</td>\n    </tr>\n    <tr>\n      <th>2</th>\n      <td>0</td>\n      <td>3</td>\n      <td>0</td>\n      <td>0</td>\n      <td>0</td>\n      <td>0</td>\n      <td>2</td>\n      <td>0</td>\n      <td>0</td>\n      <td>0</td>\n      <td>...</td>\n      <td>3</td>\n      <td>1</td>\n      <td>1</td>\n      <td>0</td>\n      <td>0</td>\n      <td>0</td>\n      <td>0</td>\n      <td>2</td>\n      <td>0</td>\n      <td>42</td>\n    </tr>\n    <tr>\n      <th>3</th>\n      <td>0</td>\n      <td>0</td>\n      <td>0</td>\n      <td>0</td>\n      <td>0</td>\n      <td>0</td>\n      <td>0</td>\n      <td>0</td>\n      <td>0</td>\n      <td>0</td>\n      <td>...</td>\n      <td>4</td>\n      <td>1</td>\n      <td>0</td>\n      <td>0</td>\n      <td>0</td>\n      <td>0</td>\n      <td>0</td>\n      <td>2</td>\n      <td>0</td>\n      <td>0</td>\n    </tr>\n    <tr>\n      <th>4</th>\n      <td>0</td>\n      <td>0</td>\n      <td>0</td>\n      <td>0</td>\n      <td>0</td>\n      <td>0</td>\n      <td>0</td>\n      <td>0</td>\n      <td>0</td>\n      <td>0</td>\n      <td>...</td>\n      <td>0</td>\n      <td>0</td>\n      <td>0</td>\n      <td>1</td>\n      <td>0</td>\n      <td>0</td>\n      <td>0</td>\n      <td>1</td>\n      <td>0</td>\n      <td>0</td>\n    </tr>\n    <tr>\n      <th>5</th>\n      <td>0</td>\n      <td>2</td>\n      <td>0</td>\n      <td>0</td>\n      <td>0</td>\n      <td>0</td>\n      <td>0</td>\n      <td>0</td>\n      <td>0</td>\n      <td>0</td>\n      <td>...</td>\n      <td>0</td>\n      <td>0</td>\n      <td>0</td>\n      <td>0</td>\n      <td>0</td>\n      <td>0</td>\n      <td>0</td>\n      <td>0</td>\n      <td>0</td>\n      <td>3</td>\n    </tr>\n    <tr>\n      <th>...</th>\n      <td>...</td>\n      <td>...</td>\n      <td>...</td>\n      <td>...</td>\n      <td>...</td>\n      <td>...</td>\n      <td>...</td>\n      <td>...</td>\n      <td>...</td>\n      <td>...</td>\n      <td>...</td>\n      <td>...</td>\n      <td>...</td>\n      <td>...</td>\n      <td>...</td>\n      <td>...</td>\n      <td>...</td>\n      <td>...</td>\n      <td>...</td>\n      <td>...</td>\n      <td>...</td>\n    </tr>\n    <tr>\n      <th>206205</th>\n      <td>0</td>\n      <td>0</td>\n      <td>1</td>\n      <td>0</td>\n      <td>0</td>\n      <td>0</td>\n      <td>0</td>\n      <td>0</td>\n      <td>0</td>\n      <td>0</td>\n      <td>...</td>\n      <td>0</td>\n      <td>0</td>\n      <td>0</td>\n      <td>0</td>\n      <td>0</td>\n      <td>0</td>\n      <td>0</td>\n      <td>0</td>\n      <td>0</td>\n      <td>5</td>\n    </tr>\n    <tr>\n      <th>206206</th>\n      <td>0</td>\n      <td>4</td>\n      <td>0</td>\n      <td>0</td>\n      <td>0</td>\n      <td>0</td>\n      <td>4</td>\n      <td>1</td>\n      <td>0</td>\n      <td>0</td>\n      <td>...</td>\n      <td>1</td>\n      <td>0</td>\n      <td>0</td>\n      <td>0</td>\n      <td>0</td>\n      <td>1</td>\n      <td>0</td>\n      <td>1</td>\n      <td>0</td>\n      <td>0</td>\n    </tr>\n    <tr>\n      <th>206207</th>\n      <td>0</td>\n      <td>0</td>\n      <td>0</td>\n      <td>0</td>\n      <td>1</td>\n      <td>0</td>\n      <td>0</td>\n      <td>0</td>\n      <td>0</td>\n      <td>0</td>\n      <td>...</td>\n      <td>3</td>\n      <td>4</td>\n      <td>0</td>\n      <td>2</td>\n      <td>1</td>\n      <td>0</td>\n      <td>0</td>\n      <td>11</td>\n      <td>0</td>\n      <td>15</td>\n    </tr>\n    <tr>\n      <th>206208</th>\n      <td>0</td>\n      <td>3</td>\n      <td>0</td>\n      <td>0</td>\n      <td>3</td>\n      <td>0</td>\n      <td>4</td>\n      <td>0</td>\n      <td>0</td>\n      <td>0</td>\n      <td>...</td>\n      <td>5</td>\n      <td>0</td>\n      <td>0</td>\n      <td>7</td>\n      <td>0</td>\n      <td>0</td>\n      <td>0</td>\n      <td>0</td>\n      <td>0</td>\n      <td>33</td>\n    </tr>\n    <tr>\n      <th>206209</th>\n      <td>0</td>\n      <td>1</td>\n      <td>0</td>\n      <td>0</td>\n      <td>0</td>\n      <td>0</td>\n      <td>0</td>\n      <td>0</td>\n      <td>0</td>\n      <td>0</td>\n      <td>...</td>\n      <td>0</td>\n      <td>0</td>\n      <td>0</td>\n      <td>0</td>\n      <td>0</td>\n      <td>1</td>\n      <td>0</td>\n      <td>0</td>\n      <td>0</td>\n      <td>3</td>\n    </tr>\n  </tbody>\n</table>\n<p>206209 rows × 134 columns</p>\n</div>"
     },
     "execution_count": 24,
     "metadata": {},
     "output_type": "execute_result"
    }
   ],
   "source": [
    "table_cross"
   ],
   "metadata": {
    "collapsed": false,
    "pycharm": {
     "name": "#%%\n"
    }
   }
  },
  {
   "cell_type": "code",
   "execution_count": 25,
   "outputs": [],
   "source": [
    "# 2.3 数据截取\n",
    "table_cross_part = table_cross[:1000]"
   ],
   "metadata": {
    "collapsed": false,
    "pycharm": {
     "name": "#%%\n"
    }
   }
  },
  {
   "cell_type": "code",
   "execution_count": 42,
   "outputs": [],
   "source": [
    "# 3.特征工程 — pca\n",
    "transfer = PCA(n_components=0.9)\n",
    "trans_data = transfer.fit_transform(table_cross_part)\n",
    "# trans_data = table_cross_part"
   ],
   "metadata": {
    "collapsed": false,
    "pycharm": {
     "name": "#%%\n"
    }
   }
  },
  {
   "cell_type": "code",
   "execution_count": 43,
   "outputs": [],
   "source": [
    "# 4.机器学习（k-means）\n",
    "st = time.time()\n",
    "estimator = KMeans(n_clusters=8, random_state=22)\n",
    "y_predict = estimator.fit_predict(trans_data)"
   ],
   "metadata": {
    "collapsed": false,
    "pycharm": {
     "name": "#%%\n"
    }
   }
  },
  {
   "cell_type": "code",
   "execution_count": 44,
   "outputs": [
    {
     "name": "stdout",
     "output_type": "stream",
     "text": [
      "轮廓系数法分数： 0.4640056725989442\n",
      "CH系数法分数： 204.04966702936417\n",
      "训练耗时：3.708268165588379\n"
     ]
    }
   ],
   "source": [
    "# 5.模型评估\n",
    "print('轮廓系数法分数：', silhouette_score(trans_data, y_predict))\n",
    "print('CH系数法分数：', calinski_harabasz_score(trans_data, y_predict))\n",
    "print(f'训练耗时：{time.time()-st}')"
   ],
   "metadata": {
    "collapsed": false,
    "pycharm": {
     "name": "#%%\n"
    }
   }
  },
  {
   "cell_type": "code",
   "execution_count": 41,
   "outputs": [
    {
     "data": {
      "text/plain": "array([5, 4, 5, 5, 5, 5, 4, 5, 5, 4, 5, 5, 5, 5, 5, 5, 5, 5, 5, 5, 4, 5,\n       5, 5, 5, 5, 0, 4, 5, 5, 5, 5, 5, 5, 4, 5, 4, 4, 4, 5, 5, 5, 4, 5,\n       5, 4, 5, 4, 5, 1, 5, 5, 5, 1, 5, 5, 5, 5, 5, 5, 5, 5, 2, 4, 4, 5,\n       5, 5, 5, 5, 2, 5, 5, 5, 2, 5, 4, 5, 5, 4, 5, 4, 5, 5, 5, 2, 4, 5,\n       4, 0, 4, 5, 5, 5, 4, 5, 5, 5, 4, 5, 4, 5, 5, 5, 5, 5, 5, 5, 5, 2,\n       5, 4, 5, 4, 5, 5, 5, 4, 5, 5, 5, 5, 5, 4, 5, 4, 5, 5, 5, 5, 5, 5,\n       4, 5, 5, 5, 5, 5, 5, 6, 5, 2, 4, 5, 5, 2, 5, 5, 4, 5, 4, 2, 2, 4,\n       4, 5, 5, 5, 5, 4, 2, 5, 5, 5, 5, 5, 5, 5, 5, 5, 5, 5, 2, 4, 5, 5,\n       5, 5, 5, 4, 5, 5, 5, 5, 5, 5, 5, 5, 5, 4, 5, 5, 5, 5, 4, 5, 2, 5,\n       5, 4, 5, 4, 5, 2, 5, 4, 5, 5, 0, 6, 5, 5, 5, 1, 5, 4, 5, 5, 4, 4,\n       4, 4, 6, 5, 5, 4, 1, 5, 4, 5, 5, 1, 2, 2, 4, 2, 5, 5, 5, 5, 5, 5,\n       1, 5, 5, 5, 5, 1, 5, 5, 5, 5, 5, 5, 5, 4, 4, 5, 5, 5, 5, 4, 5, 2,\n       5, 5, 4, 5, 5, 5, 5, 5, 5, 5, 4, 5, 5, 2, 4, 2, 2, 5, 5, 4, 5, 5,\n       5, 5, 6, 7, 5, 5, 5, 4, 4, 5, 5, 5, 5, 4, 5, 5, 5, 4, 5, 4, 5, 5,\n       2, 5, 5, 5, 1, 5, 5, 4, 5, 5, 5, 4, 1, 4, 0, 5, 5, 5, 2, 5, 5, 5,\n       5, 4, 5, 2, 5, 5, 4, 5, 5, 5, 4, 5, 5, 5, 5, 5, 5, 4, 5, 4, 4, 4,\n       5, 5, 4, 5, 4, 5, 4, 5, 5, 5, 4, 4, 5, 5, 5, 5, 5, 4, 5, 5, 1, 5,\n       5, 5, 5, 5, 4, 5, 2, 5, 4, 5, 5, 5, 5, 5, 4, 2, 4, 5, 4, 4, 5, 4,\n       5, 1, 5, 5, 5, 5, 2, 5, 5, 5, 5, 5, 6, 4, 5, 5, 4, 5, 5, 5, 5, 4,\n       5, 5, 5, 4, 5, 5, 4, 5, 5, 5, 5, 5, 5, 2, 5, 5, 5, 5, 5, 4, 5, 5,\n       5, 4, 4, 3, 5, 5, 5, 2, 5, 4, 2, 2, 5, 4, 5, 5, 5, 5, 4, 5, 5, 6,\n       5, 2, 2, 2, 5, 5, 5, 5, 5, 5, 4, 5, 5, 4, 5, 5, 4, 4, 1, 5, 5, 5,\n       4, 4, 2, 4, 4, 5, 5, 5, 5, 4, 4, 2, 4, 5, 5, 5, 5, 4, 2, 5, 5, 5,\n       5, 4, 4, 5, 5, 5, 5, 5, 5, 6, 5, 5, 5, 4, 5, 5, 5, 5, 4, 5, 5, 2,\n       4, 5, 4, 5, 5, 5, 4, 5, 5, 4, 4, 5, 5, 5, 4, 5, 5, 5, 5, 5, 5, 5,\n       5, 4, 5, 5, 5, 5, 5, 4, 4, 4, 5, 5, 5, 5, 5, 5, 4, 5, 5, 5, 5, 5,\n       5, 4, 5, 5, 5, 5, 5, 4, 5, 2, 1, 5, 5, 5, 5, 5, 5, 5, 5, 5, 5, 5,\n       5, 6, 5, 5, 5, 4, 5, 5, 5, 2, 5, 4, 5, 5, 5, 5, 5, 1, 4, 5, 5, 2,\n       5, 4, 5, 5, 5, 5, 4, 5, 5, 2, 5, 5, 5, 4, 5, 5, 5, 5, 5, 5, 5, 5,\n       5, 5, 2, 5, 4, 5, 4, 1, 5, 5, 6, 4, 4, 4, 2, 5, 6, 5, 4, 2, 5, 4,\n       5, 5, 5, 5, 5, 5, 0, 4, 4, 5, 5, 4, 5, 5, 5, 5, 5, 4, 5, 5, 5, 5,\n       5, 5, 5, 5, 2, 0, 5, 6, 5, 5, 5, 5, 5, 2, 5, 4, 2, 4, 5, 5, 5, 5,\n       5, 4, 5, 5, 5, 4, 5, 5, 5, 5, 5, 5, 5, 5, 1, 4, 4, 5, 2, 5, 4, 5,\n       4, 4, 4, 5, 5, 5, 5, 4, 4, 5, 5, 5, 5, 5, 4, 5, 5, 5, 5, 5, 5, 5,\n       5, 5, 5, 4, 5, 5, 5, 4, 5, 4, 5, 5, 5, 1, 5, 5, 5, 5, 4, 2, 5, 5,\n       5, 5, 5, 4, 5, 5, 4, 4, 4, 5, 5, 5, 5, 5, 5, 6, 5, 5, 5, 5, 5, 5,\n       5, 5, 5, 5, 5, 5, 5, 4, 5, 5, 4, 5, 5, 5, 5, 5, 4, 5, 5, 6, 5, 5,\n       5, 4, 4, 2, 5, 5, 5, 5, 5, 5, 5, 5, 5, 5, 5, 4, 5, 5, 4, 5, 5, 5,\n       5, 5, 2, 5, 4, 4, 5, 4, 4, 5, 1, 4, 4, 5, 5, 1, 4, 1, 4, 5, 4, 5,\n       5, 4, 5, 5, 4, 4, 5, 2, 5, 2, 5, 1, 5, 5, 5, 4, 5, 5, 4, 5, 2, 2,\n       4, 5, 5, 5, 4, 4, 5, 4, 5, 2, 4, 4, 4, 2, 5, 2, 5, 4, 4, 4, 5, 5,\n       5, 5, 5, 5, 2, 4, 5, 5, 2, 5, 5, 4, 5, 5, 4, 5, 4, 5, 5, 5, 5, 4,\n       5, 5, 5, 5, 5, 5, 5, 4, 2, 5, 4, 5, 5, 5, 5, 5, 4, 5, 5, 5, 4, 4,\n       2, 5, 5, 5, 5, 5, 5, 5, 5, 5, 4, 6, 5, 5, 4, 4, 5, 2, 5, 4, 5, 2,\n       4, 5, 5, 4, 2, 5, 5, 5, 4, 4, 5, 2, 5, 4, 5, 4, 5, 5, 5, 5, 5, 5,\n       5, 5, 5, 5, 4, 5, 4, 4, 6, 4])"
     },
     "execution_count": 41,
     "metadata": {},
     "output_type": "execute_result"
    }
   ],
   "source": [
    "y_predict\n"
   ],
   "metadata": {
    "collapsed": false,
    "pycharm": {
     "name": "#%%\n"
    }
   }
  }
 ],
 "metadata": {
  "kernelspec": {
   "display_name": "Python 3",
   "language": "python",
   "name": "python3"
  },
  "language_info": {
   "codemirror_mode": {
    "name": "ipython",
    "version": 2
   },
   "file_extension": ".py",
   "mimetype": "text/x-python",
   "name": "python",
   "nbconvert_exporter": "python",
   "pygments_lexer": "ipython2",
   "version": "2.7.6"
  },
  "pycharm": {
   "stem_cell": {
    "cell_type": "raw",
    "source": [
     "1.获取数据\n",
     "2.数据基本处理\n",
     "    2.1 合并表格\n",
     "    2.2 交叉表合并\n",
     "    2.3 数据截取\n",
     "3.特征工程 — pca\n",
     "4.机器学习（k-means）\n",
     "5.模型评估\n",
     "    sklearn.metrics.silhouette_score(X, labels)\n",
     "        计算所有样本的平均轮廓系数\n",
     "        X：特征值\n",
     "        labels：被聚类标记的目标值"
    ],
    "metadata": {
     "collapsed": false
    }
   }
  }
 },
 "nbformat": 4,
 "nbformat_minor": 0
}